{
 "cells": [
  {
   "cell_type": "code",
   "execution_count": 13,
   "id": "5ba10b1a",
   "metadata": {},
   "outputs": [],
   "source": [
    "import pytorch_lightning as pl\n",
    "import torch\n",
    "from torchvision import transforms\n",
    "from torchvision.datasets import CIFAR10\n",
    "from torch.utils.data import DataLoader, random_split\n",
    "from torchvision.models import resnet18, resnet34, resnet50\n",
    "import torch.nn.functional as F\n",
    "import torchmetrics\n",
    "import pandas as pd\n",
    "import numpy as np\n",
    "import matplotlib.pyplot as plt"
   ]
  },
  {
   "cell_type": "code",
   "execution_count": 31,
   "id": "77ec97b8",
   "metadata": {},
   "outputs": [],
   "source": [
    "class CIFAR10DataModule(pl.LightningDataModule):\n",
    "    def __init__(self, batch_size=32):\n",
    "        super().__init__()\n",
    "        self.batch_size = batch_size\n",
    "        self.transform = transforms.Compose([\n",
    "            transforms.ToTensor(),\n",
    "            transforms.Normalize((0.5, 0.5, 0.5), (0.5, 0.5, 0.5))\n",
    "        ])\n",
    "\n",
    "    def prepare_data(self):\n",
    "        CIFAR10(root=\"data\", train=True, download=True)\n",
    "        CIFAR10(root=\"data\", train=False, download=True)\n",
    "\n",
    "    def setup(self, stage=None):\n",
    "        if stage == 'fit' or stage is None:\n",
    "            cifar_full = CIFAR10(root=\"data\", train=True, transform=self.transform)\n",
    "            self.cifar_train, self.cifar_val = random_split(cifar_full, [45000, 5000])\n",
    "        if stage == 'test' or stage is None:\n",
    "            self.cifar_test = CIFAR10(root=\"data\", train=False, transform=self.transform)\n",
    "\n",
    "    def train_dataloader(self):\n",
    "        return DataLoader(self.cifar_train, batch_size=self.batch_size, shuffle=True)\n",
    "\n",
    "    def val_dataloader(self):\n",
    "        return DataLoader(self.cifar_val, batch_size=self.batch_size)\n",
    "\n",
    "    def test_dataloader(self):\n",
    "        return DataLoader(self.cifar_test, batch_size=self.batch_size)"
   ]
  },
  {
   "cell_type": "code",
   "execution_count": 3,
   "id": "ec728a38",
   "metadata": {},
   "outputs": [],
   "source": [
    "class LitResNet(pl.LightningModule):\n",
    "    def __init__(self, model_type):\n",
    "        super().__init__()\n",
    "        if model_type == 'resnet18':\n",
    "            self.model = resnet18(pretrained=True)\n",
    "        elif model_type == 'resnet34':\n",
    "            self.model = resnet34(pretrained=True)\n",
    "        elif model_type == 'resnet50':\n",
    "            self.model = resnet50(pretrained=True)\n",
    "        self.model.fc = torch.nn.Linear(self.model.fc.in_features, 10)\n",
    "        \n",
    "        self.acc = torchmetrics.Accuracy(task=\"multiclass\", num_classes=10)\n",
    "        self.precision = torchmetrics.Precision(task=\"multiclass\", average='macro', num_classes=10)\n",
    "        self.recall = torchmetrics.Recall(task=\"multiclass\", average='macro', num_classes=10)\n",
    "        self.f1 = torchmetrics.F1Score(task=\"multiclass\", average='macro', num_classes=10)\n",
    "\n",
    "\n",
    "    def forward(self, x):\n",
    "        return self.model(x)\n",
    "\n",
    "    def training_step(self, batch, batch_idx):\n",
    "        x, y = batch\n",
    "        y_hat = self(x)\n",
    "        loss = F.cross_entropy(y_hat, y)\n",
    "        self.log('train_loss', loss)\n",
    "        self.log('train_acc', self.acc(y_hat, y))\n",
    "        return loss\n",
    "\n",
    "    def validation_step(self, batch, batch_idx):\n",
    "        x, y = batch\n",
    "        y_hat = self(x)\n",
    "        loss = F.cross_entropy(y_hat, y)\n",
    "        self.log('val_loss', loss)\n",
    "        self.log('val_acc', self.acc(y_hat, y))\n",
    "        self.log('precision', self.precision(y_hat, y))\n",
    "        self.log('recall', self.recall(y_hat, y))\n",
    "        self.log('f1_score', self.f1(y_hat, y))\n",
    "        return loss\n",
    "\n",
    "    def configure_optimizers(self):\n",
    "        return torch.optim.Adam(self.model.parameters(), lr=1e-3)"
   ]
  },
  {
   "cell_type": "code",
   "execution_count": 5,
   "id": "13ffacfe",
   "metadata": {},
   "outputs": [
    {
     "name": "stderr",
     "output_type": "stream",
     "text": [
      "Trainer will use only 1 of 3 GPUs because it is running inside an interactive / notebook environment. You may try to set `Trainer(devices=3)` but please note that multi-GPU inside interactive / notebook environments is considered experimental and unstable. Your mileage may vary.\n",
      "GPU available: True (cuda), used: True\n",
      "TPU available: False, using: 0 TPU cores\n",
      "IPU available: False, using: 0 IPUs\n",
      "HPU available: False, using: 0 HPUs\n"
     ]
    },
    {
     "name": "stdout",
     "output_type": "stream",
     "text": [
      "Files already downloaded and verified\n",
      "Files already downloaded and verified\n"
     ]
    },
    {
     "name": "stderr",
     "output_type": "stream",
     "text": [
      "Missing logger folder: /data/home/dimitriishh/workspace/repos/cv_talenthub/lightning_logs\n",
      "LOCAL_RANK: 0 - CUDA_VISIBLE_DEVICES: [0,1,2]\n",
      "\n",
      "  | Name      | Type                | Params\n",
      "--------------------------------------------------\n",
      "0 | model     | ResNet              | 11.2 M\n",
      "1 | acc       | MulticlassAccuracy  | 0     \n",
      "2 | precision | MulticlassPrecision | 0     \n",
      "3 | recall    | MulticlassRecall    | 0     \n",
      "4 | f1        | MulticlassF1Score   | 0     \n",
      "--------------------------------------------------\n",
      "11.2 M    Trainable params\n",
      "0         Non-trainable params\n",
      "11.2 M    Total params\n",
      "44.727    Total estimated model params size (MB)\n"
     ]
    },
    {
     "data": {
      "application/vnd.jupyter.widget-view+json": {
       "model_id": "",
       "version_major": 2,
       "version_minor": 0
      },
      "text/plain": [
       "Sanity Checking: |                                                                                | 0/? [00:00…"
      ]
     },
     "metadata": {},
     "output_type": "display_data"
    },
    {
     "name": "stderr",
     "output_type": "stream",
     "text": [
      "/data/home/dimitriishh/workspace/envs/base_env/lib/python3.10/site-packages/pytorch_lightning/trainer/connectors/data_connector.py:441: The 'val_dataloader' does not have many workers which may be a bottleneck. Consider increasing the value of the `num_workers` argument` to `num_workers=7` in the `DataLoader` to improve performance.\n",
      "/data/home/dimitriishh/workspace/envs/base_env/lib/python3.10/site-packages/pytorch_lightning/trainer/connectors/data_connector.py:441: The 'train_dataloader' does not have many workers which may be a bottleneck. Consider increasing the value of the `num_workers` argument` to `num_workers=7` in the `DataLoader` to improve performance.\n"
     ]
    },
    {
     "data": {
      "application/vnd.jupyter.widget-view+json": {
       "model_id": "7413702c90f243158bcdc0b7caa209f2",
       "version_major": 2,
       "version_minor": 0
      },
      "text/plain": [
       "Training: |                                                                                       | 0/? [00:00…"
      ]
     },
     "metadata": {},
     "output_type": "display_data"
    },
    {
     "data": {
      "application/vnd.jupyter.widget-view+json": {
       "model_id": "",
       "version_major": 2,
       "version_minor": 0
      },
      "text/plain": [
       "Validation: |                                                                                     | 0/? [00:00…"
      ]
     },
     "metadata": {},
     "output_type": "display_data"
    },
    {
     "data": {
      "application/vnd.jupyter.widget-view+json": {
       "model_id": "",
       "version_major": 2,
       "version_minor": 0
      },
      "text/plain": [
       "Validation: |                                                                                     | 0/? [00:00…"
      ]
     },
     "metadata": {},
     "output_type": "display_data"
    },
    {
     "data": {
      "application/vnd.jupyter.widget-view+json": {
       "model_id": "",
       "version_major": 2,
       "version_minor": 0
      },
      "text/plain": [
       "Validation: |                                                                                     | 0/? [00:00…"
      ]
     },
     "metadata": {},
     "output_type": "display_data"
    },
    {
     "data": {
      "application/vnd.jupyter.widget-view+json": {
       "model_id": "",
       "version_major": 2,
       "version_minor": 0
      },
      "text/plain": [
       "Validation: |                                                                                     | 0/? [00:00…"
      ]
     },
     "metadata": {},
     "output_type": "display_data"
    },
    {
     "data": {
      "application/vnd.jupyter.widget-view+json": {
       "model_id": "",
       "version_major": 2,
       "version_minor": 0
      },
      "text/plain": [
       "Validation: |                                                                                     | 0/? [00:00…"
      ]
     },
     "metadata": {},
     "output_type": "display_data"
    },
    {
     "data": {
      "application/vnd.jupyter.widget-view+json": {
       "model_id": "",
       "version_major": 2,
       "version_minor": 0
      },
      "text/plain": [
       "Validation: |                                                                                     | 0/? [00:00…"
      ]
     },
     "metadata": {},
     "output_type": "display_data"
    },
    {
     "data": {
      "application/vnd.jupyter.widget-view+json": {
       "model_id": "",
       "version_major": 2,
       "version_minor": 0
      },
      "text/plain": [
       "Validation: |                                                                                     | 0/? [00:00…"
      ]
     },
     "metadata": {},
     "output_type": "display_data"
    },
    {
     "data": {
      "application/vnd.jupyter.widget-view+json": {
       "model_id": "",
       "version_major": 2,
       "version_minor": 0
      },
      "text/plain": [
       "Validation: |                                                                                     | 0/? [00:00…"
      ]
     },
     "metadata": {},
     "output_type": "display_data"
    },
    {
     "data": {
      "application/vnd.jupyter.widget-view+json": {
       "model_id": "",
       "version_major": 2,
       "version_minor": 0
      },
      "text/plain": [
       "Validation: |                                                                                     | 0/? [00:00…"
      ]
     },
     "metadata": {},
     "output_type": "display_data"
    },
    {
     "data": {
      "application/vnd.jupyter.widget-view+json": {
       "model_id": "",
       "version_major": 2,
       "version_minor": 0
      },
      "text/plain": [
       "Validation: |                                                                                     | 0/? [00:00…"
      ]
     },
     "metadata": {},
     "output_type": "display_data"
    },
    {
     "data": {
      "application/vnd.jupyter.widget-view+json": {
       "model_id": "",
       "version_major": 2,
       "version_minor": 0
      },
      "text/plain": [
       "Validation: |                                                                                     | 0/? [00:00…"
      ]
     },
     "metadata": {},
     "output_type": "display_data"
    },
    {
     "data": {
      "application/vnd.jupyter.widget-view+json": {
       "model_id": "",
       "version_major": 2,
       "version_minor": 0
      },
      "text/plain": [
       "Validation: |                                                                                     | 0/? [00:00…"
      ]
     },
     "metadata": {},
     "output_type": "display_data"
    },
    {
     "data": {
      "application/vnd.jupyter.widget-view+json": {
       "model_id": "",
       "version_major": 2,
       "version_minor": 0
      },
      "text/plain": [
       "Validation: |                                                                                     | 0/? [00:00…"
      ]
     },
     "metadata": {},
     "output_type": "display_data"
    },
    {
     "data": {
      "application/vnd.jupyter.widget-view+json": {
       "model_id": "",
       "version_major": 2,
       "version_minor": 0
      },
      "text/plain": [
       "Validation: |                                                                                     | 0/? [00:00…"
      ]
     },
     "metadata": {},
     "output_type": "display_data"
    },
    {
     "data": {
      "application/vnd.jupyter.widget-view+json": {
       "model_id": "",
       "version_major": 2,
       "version_minor": 0
      },
      "text/plain": [
       "Validation: |                                                                                     | 0/? [00:00…"
      ]
     },
     "metadata": {},
     "output_type": "display_data"
    },
    {
     "name": "stderr",
     "output_type": "stream",
     "text": [
      "`Trainer.fit` stopped: `max_epochs=15` reached.\n",
      "/data/home/dimitriishh/workspace/envs/base_env/lib/python3.10/site-packages/torchvision/models/_utils.py:208: UserWarning: The parameter 'pretrained' is deprecated since 0.13 and may be removed in the future, please use 'weights' instead.\n",
      "  warnings.warn(\n",
      "/data/home/dimitriishh/workspace/envs/base_env/lib/python3.10/site-packages/torchvision/models/_utils.py:223: UserWarning: Arguments other than a weight enum or `None` for 'weights' are deprecated since 0.13 and may be removed in the future. The current behavior is equivalent to passing `weights=ResNet34_Weights.IMAGENET1K_V1`. You can also use `weights=ResNet34_Weights.DEFAULT` to get the most up-to-date weights.\n",
      "  warnings.warn(msg)\n",
      "Trainer will use only 1 of 3 GPUs because it is running inside an interactive / notebook environment. You may try to set `Trainer(devices=3)` but please note that multi-GPU inside interactive / notebook environments is considered experimental and unstable. Your mileage may vary.\n",
      "GPU available: True (cuda), used: True\n",
      "TPU available: False, using: 0 TPU cores\n",
      "IPU available: False, using: 0 IPUs\n",
      "HPU available: False, using: 0 HPUs\n"
     ]
    },
    {
     "name": "stdout",
     "output_type": "stream",
     "text": [
      "Files already downloaded and verified\n",
      "Files already downloaded and verified\n"
     ]
    },
    {
     "name": "stderr",
     "output_type": "stream",
     "text": [
      "LOCAL_RANK: 0 - CUDA_VISIBLE_DEVICES: [0,1,2]\n",
      "\n",
      "  | Name      | Type                | Params\n",
      "--------------------------------------------------\n",
      "0 | model     | ResNet              | 21.3 M\n",
      "1 | acc       | MulticlassAccuracy  | 0     \n",
      "2 | precision | MulticlassPrecision | 0     \n",
      "3 | recall    | MulticlassRecall    | 0     \n",
      "4 | f1        | MulticlassF1Score   | 0     \n",
      "--------------------------------------------------\n",
      "21.3 M    Trainable params\n",
      "0         Non-trainable params\n",
      "21.3 M    Total params\n",
      "85.159    Total estimated model params size (MB)\n"
     ]
    },
    {
     "data": {
      "application/vnd.jupyter.widget-view+json": {
       "model_id": "",
       "version_major": 2,
       "version_minor": 0
      },
      "text/plain": [
       "Sanity Checking: |                                                                                | 0/? [00:00…"
      ]
     },
     "metadata": {},
     "output_type": "display_data"
    },
    {
     "data": {
      "application/vnd.jupyter.widget-view+json": {
       "model_id": "da3f534f29d34ffc9bb4fc8affea64f3",
       "version_major": 2,
       "version_minor": 0
      },
      "text/plain": [
       "Training: |                                                                                       | 0/? [00:00…"
      ]
     },
     "metadata": {},
     "output_type": "display_data"
    },
    {
     "data": {
      "application/vnd.jupyter.widget-view+json": {
       "model_id": "",
       "version_major": 2,
       "version_minor": 0
      },
      "text/plain": [
       "Validation: |                                                                                     | 0/? [00:00…"
      ]
     },
     "metadata": {},
     "output_type": "display_data"
    },
    {
     "data": {
      "application/vnd.jupyter.widget-view+json": {
       "model_id": "",
       "version_major": 2,
       "version_minor": 0
      },
      "text/plain": [
       "Validation: |                                                                                     | 0/? [00:00…"
      ]
     },
     "metadata": {},
     "output_type": "display_data"
    },
    {
     "data": {
      "application/vnd.jupyter.widget-view+json": {
       "model_id": "",
       "version_major": 2,
       "version_minor": 0
      },
      "text/plain": [
       "Validation: |                                                                                     | 0/? [00:00…"
      ]
     },
     "metadata": {},
     "output_type": "display_data"
    },
    {
     "data": {
      "application/vnd.jupyter.widget-view+json": {
       "model_id": "",
       "version_major": 2,
       "version_minor": 0
      },
      "text/plain": [
       "Validation: |                                                                                     | 0/? [00:00…"
      ]
     },
     "metadata": {},
     "output_type": "display_data"
    },
    {
     "data": {
      "application/vnd.jupyter.widget-view+json": {
       "model_id": "",
       "version_major": 2,
       "version_minor": 0
      },
      "text/plain": [
       "Validation: |                                                                                     | 0/? [00:00…"
      ]
     },
     "metadata": {},
     "output_type": "display_data"
    },
    {
     "data": {
      "application/vnd.jupyter.widget-view+json": {
       "model_id": "",
       "version_major": 2,
       "version_minor": 0
      },
      "text/plain": [
       "Validation: |                                                                                     | 0/? [00:00…"
      ]
     },
     "metadata": {},
     "output_type": "display_data"
    },
    {
     "data": {
      "application/vnd.jupyter.widget-view+json": {
       "model_id": "",
       "version_major": 2,
       "version_minor": 0
      },
      "text/plain": [
       "Validation: |                                                                                     | 0/? [00:00…"
      ]
     },
     "metadata": {},
     "output_type": "display_data"
    },
    {
     "data": {
      "application/vnd.jupyter.widget-view+json": {
       "model_id": "",
       "version_major": 2,
       "version_minor": 0
      },
      "text/plain": [
       "Validation: |                                                                                     | 0/? [00:00…"
      ]
     },
     "metadata": {},
     "output_type": "display_data"
    },
    {
     "data": {
      "application/vnd.jupyter.widget-view+json": {
       "model_id": "",
       "version_major": 2,
       "version_minor": 0
      },
      "text/plain": [
       "Validation: |                                                                                     | 0/? [00:00…"
      ]
     },
     "metadata": {},
     "output_type": "display_data"
    },
    {
     "data": {
      "application/vnd.jupyter.widget-view+json": {
       "model_id": "",
       "version_major": 2,
       "version_minor": 0
      },
      "text/plain": [
       "Validation: |                                                                                     | 0/? [00:00…"
      ]
     },
     "metadata": {},
     "output_type": "display_data"
    },
    {
     "data": {
      "application/vnd.jupyter.widget-view+json": {
       "model_id": "",
       "version_major": 2,
       "version_minor": 0
      },
      "text/plain": [
       "Validation: |                                                                                     | 0/? [00:00…"
      ]
     },
     "metadata": {},
     "output_type": "display_data"
    },
    {
     "data": {
      "application/vnd.jupyter.widget-view+json": {
       "model_id": "",
       "version_major": 2,
       "version_minor": 0
      },
      "text/plain": [
       "Validation: |                                                                                     | 0/? [00:00…"
      ]
     },
     "metadata": {},
     "output_type": "display_data"
    },
    {
     "data": {
      "application/vnd.jupyter.widget-view+json": {
       "model_id": "",
       "version_major": 2,
       "version_minor": 0
      },
      "text/plain": [
       "Validation: |                                                                                     | 0/? [00:00…"
      ]
     },
     "metadata": {},
     "output_type": "display_data"
    },
    {
     "data": {
      "application/vnd.jupyter.widget-view+json": {
       "model_id": "",
       "version_major": 2,
       "version_minor": 0
      },
      "text/plain": [
       "Validation: |                                                                                     | 0/? [00:00…"
      ]
     },
     "metadata": {},
     "output_type": "display_data"
    },
    {
     "data": {
      "application/vnd.jupyter.widget-view+json": {
       "model_id": "",
       "version_major": 2,
       "version_minor": 0
      },
      "text/plain": [
       "Validation: |                                                                                     | 0/? [00:00…"
      ]
     },
     "metadata": {},
     "output_type": "display_data"
    },
    {
     "name": "stderr",
     "output_type": "stream",
     "text": [
      "`Trainer.fit` stopped: `max_epochs=15` reached.\n",
      "/data/home/dimitriishh/workspace/envs/base_env/lib/python3.10/site-packages/torchvision/models/_utils.py:223: UserWarning: Arguments other than a weight enum or `None` for 'weights' are deprecated since 0.13 and may be removed in the future. The current behavior is equivalent to passing `weights=ResNet50_Weights.IMAGENET1K_V1`. You can also use `weights=ResNet50_Weights.DEFAULT` to get the most up-to-date weights.\n",
      "  warnings.warn(msg)\n",
      "Trainer will use only 1 of 3 GPUs because it is running inside an interactive / notebook environment. You may try to set `Trainer(devices=3)` but please note that multi-GPU inside interactive / notebook environments is considered experimental and unstable. Your mileage may vary.\n",
      "GPU available: True (cuda), used: True\n",
      "TPU available: False, using: 0 TPU cores\n",
      "IPU available: False, using: 0 IPUs\n",
      "HPU available: False, using: 0 HPUs\n"
     ]
    },
    {
     "name": "stdout",
     "output_type": "stream",
     "text": [
      "Files already downloaded and verified\n",
      "Files already downloaded and verified\n"
     ]
    },
    {
     "name": "stderr",
     "output_type": "stream",
     "text": [
      "LOCAL_RANK: 0 - CUDA_VISIBLE_DEVICES: [0,1,2]\n",
      "\n",
      "  | Name      | Type                | Params\n",
      "--------------------------------------------------\n",
      "0 | model     | ResNet              | 23.5 M\n",
      "1 | acc       | MulticlassAccuracy  | 0     \n",
      "2 | precision | MulticlassPrecision | 0     \n",
      "3 | recall    | MulticlassRecall    | 0     \n",
      "4 | f1        | MulticlassF1Score   | 0     \n",
      "--------------------------------------------------\n",
      "23.5 M    Trainable params\n",
      "0         Non-trainable params\n",
      "23.5 M    Total params\n",
      "94.114    Total estimated model params size (MB)\n"
     ]
    },
    {
     "data": {
      "application/vnd.jupyter.widget-view+json": {
       "model_id": "",
       "version_major": 2,
       "version_minor": 0
      },
      "text/plain": [
       "Sanity Checking: |                                                                                | 0/? [00:00…"
      ]
     },
     "metadata": {},
     "output_type": "display_data"
    },
    {
     "data": {
      "application/vnd.jupyter.widget-view+json": {
       "model_id": "428f0930a6164348a73fd521f6d1a5a4",
       "version_major": 2,
       "version_minor": 0
      },
      "text/plain": [
       "Training: |                                                                                       | 0/? [00:00…"
      ]
     },
     "metadata": {},
     "output_type": "display_data"
    },
    {
     "data": {
      "application/vnd.jupyter.widget-view+json": {
       "model_id": "",
       "version_major": 2,
       "version_minor": 0
      },
      "text/plain": [
       "Validation: |                                                                                     | 0/? [00:00…"
      ]
     },
     "metadata": {},
     "output_type": "display_data"
    },
    {
     "data": {
      "application/vnd.jupyter.widget-view+json": {
       "model_id": "",
       "version_major": 2,
       "version_minor": 0
      },
      "text/plain": [
       "Validation: |                                                                                     | 0/? [00:00…"
      ]
     },
     "metadata": {},
     "output_type": "display_data"
    },
    {
     "data": {
      "application/vnd.jupyter.widget-view+json": {
       "model_id": "",
       "version_major": 2,
       "version_minor": 0
      },
      "text/plain": [
       "Validation: |                                                                                     | 0/? [00:00…"
      ]
     },
     "metadata": {},
     "output_type": "display_data"
    },
    {
     "data": {
      "application/vnd.jupyter.widget-view+json": {
       "model_id": "",
       "version_major": 2,
       "version_minor": 0
      },
      "text/plain": [
       "Validation: |                                                                                     | 0/? [00:00…"
      ]
     },
     "metadata": {},
     "output_type": "display_data"
    },
    {
     "data": {
      "application/vnd.jupyter.widget-view+json": {
       "model_id": "",
       "version_major": 2,
       "version_minor": 0
      },
      "text/plain": [
       "Validation: |                                                                                     | 0/? [00:00…"
      ]
     },
     "metadata": {},
     "output_type": "display_data"
    },
    {
     "data": {
      "application/vnd.jupyter.widget-view+json": {
       "model_id": "",
       "version_major": 2,
       "version_minor": 0
      },
      "text/plain": [
       "Validation: |                                                                                     | 0/? [00:00…"
      ]
     },
     "metadata": {},
     "output_type": "display_data"
    },
    {
     "data": {
      "application/vnd.jupyter.widget-view+json": {
       "model_id": "",
       "version_major": 2,
       "version_minor": 0
      },
      "text/plain": [
       "Validation: |                                                                                     | 0/? [00:00…"
      ]
     },
     "metadata": {},
     "output_type": "display_data"
    },
    {
     "data": {
      "application/vnd.jupyter.widget-view+json": {
       "model_id": "",
       "version_major": 2,
       "version_minor": 0
      },
      "text/plain": [
       "Validation: |                                                                                     | 0/? [00:00…"
      ]
     },
     "metadata": {},
     "output_type": "display_data"
    },
    {
     "data": {
      "application/vnd.jupyter.widget-view+json": {
       "model_id": "",
       "version_major": 2,
       "version_minor": 0
      },
      "text/plain": [
       "Validation: |                                                                                     | 0/? [00:00…"
      ]
     },
     "metadata": {},
     "output_type": "display_data"
    },
    {
     "data": {
      "application/vnd.jupyter.widget-view+json": {
       "model_id": "",
       "version_major": 2,
       "version_minor": 0
      },
      "text/plain": [
       "Validation: |                                                                                     | 0/? [00:00…"
      ]
     },
     "metadata": {},
     "output_type": "display_data"
    },
    {
     "data": {
      "application/vnd.jupyter.widget-view+json": {
       "model_id": "",
       "version_major": 2,
       "version_minor": 0
      },
      "text/plain": [
       "Validation: |                                                                                     | 0/? [00:00…"
      ]
     },
     "metadata": {},
     "output_type": "display_data"
    },
    {
     "data": {
      "application/vnd.jupyter.widget-view+json": {
       "model_id": "",
       "version_major": 2,
       "version_minor": 0
      },
      "text/plain": [
       "Validation: |                                                                                     | 0/? [00:00…"
      ]
     },
     "metadata": {},
     "output_type": "display_data"
    },
    {
     "data": {
      "application/vnd.jupyter.widget-view+json": {
       "model_id": "",
       "version_major": 2,
       "version_minor": 0
      },
      "text/plain": [
       "Validation: |                                                                                     | 0/? [00:00…"
      ]
     },
     "metadata": {},
     "output_type": "display_data"
    },
    {
     "data": {
      "application/vnd.jupyter.widget-view+json": {
       "model_id": "",
       "version_major": 2,
       "version_minor": 0
      },
      "text/plain": [
       "Validation: |                                                                                     | 0/? [00:00…"
      ]
     },
     "metadata": {},
     "output_type": "display_data"
    },
    {
     "data": {
      "application/vnd.jupyter.widget-view+json": {
       "model_id": "",
       "version_major": 2,
       "version_minor": 0
      },
      "text/plain": [
       "Validation: |                                                                                     | 0/? [00:00…"
      ]
     },
     "metadata": {},
     "output_type": "display_data"
    },
    {
     "name": "stderr",
     "output_type": "stream",
     "text": [
      "`Trainer.fit` stopped: `max_epochs=15` reached.\n"
     ]
    }
   ],
   "source": [
    "data_module = CIFAR10DataModule()\n",
    "\n",
    "for model_type in ['resnet18', 'resnet34', 'resnet50']:\n",
    "    model = LitResNet(model_type)\n",
    "    trainer = pl.Trainer(max_epochs=15)\n",
    "    trainer.fit(model, data_module)"
   ]
  },
  {
   "cell_type": "code",
   "execution_count": 72,
   "id": "91be1765-d63b-4b44-88aa-ea365f39a736",
   "metadata": {},
   "outputs": [
    {
     "data": {
      "text/plain": [
       "'cuda'"
      ]
     },
     "execution_count": 72,
     "metadata": {},
     "output_type": "execute_result"
    }
   ],
   "source": [
    "checkpoint = \"./lightning_logs/version_2/checkpoints/epoch=14-step=21105.ckpt\"\n",
    "model = LitResNet.load_from_checkpoint(checkpoint, model_type='resnet50')\n",
    "device = 'cuda' if torch.cuda.is_available() else 'cpu'\n",
    "device"
   ]
  },
  {
   "cell_type": "code",
   "execution_count": 73,
   "id": "5d1b29dc-ef09-47bb-aabe-53e3472e3ec6",
   "metadata": {},
   "outputs": [],
   "source": [
    "mapping = {0: 'airplanes',\n",
    " 1: 'cars',\n",
    " 2: 'birds',\n",
    " 3: 'cats',\n",
    " 4: 'deer',\n",
    " 5: 'dogs',\n",
    " 6: 'frogs',\n",
    " 7: 'horses',\n",
    " 8: 'ships',\n",
    " 9: 'trucks'}"
   ]
  },
  {
   "cell_type": "code",
   "execution_count": 74,
   "id": "5f615ceb-4f6f-45a6-ac35-d02f17a148b3",
   "metadata": {},
   "outputs": [
    {
     "name": "stderr",
     "output_type": "stream",
     "text": [
      "Clipping input data to the valid range for imshow with RGB data ([0..1] for floats or [0..255] for integers).\n",
      "Clipping input data to the valid range for imshow with RGB data ([0..1] for floats or [0..255] for integers).\n",
      "Clipping input data to the valid range for imshow with RGB data ([0..1] for floats or [0..255] for integers).\n",
      "Clipping input data to the valid range for imshow with RGB data ([0..1] for floats or [0..255] for integers).\n",
      "Clipping input data to the valid range for imshow with RGB data ([0..1] for floats or [0..255] for integers).\n"
     ]
    },
    {
     "data": {
      "image/png": "[encoded data removed]",
      "text/plain": [
       "<Figure size 1500x400 with 5 Axes>"
      ]
     },
     "metadata": {},
     "output_type": "display_data"
    }
   ],
   "source": [
    "with torch.no_grad():\n",
    "    for data, _ in data_module.val_dataloader():\n",
    "        data = data.to(device)\n",
    "        preds = model(data)\n",
    "        break\n",
    "import matplotlib.pyplot as plt\n",
    "fig, ax = plt.subplots(1, 5, figsize=(15, 4))\n",
    "for i in range(5):\n",
    "    ax[i].imshow(data[i].cpu().numpy().transpose((1, 2, 0)))\n",
    "    ax[i].set_title(mapping[torch.argmax(preds[i]).item()])\n",
    "plt.show()"
   ]
  }
 ],
 "metadata": {
  "kernelspec": {
   "display_name": "base_kernel",
   "language": "python",
   "name": "base_kernel"
  },
  "language_info": {
   "codemirror_mode": {
    "name": "ipython",
    "version": 3
   },
   "file_extension": ".py",
   "mimetype": "text/x-python",
   "name": "python",
   "nbconvert_exporter": "python",
   "pygments_lexer": "ipython3",
   "version": "3.10.12"
  },
  "widgets": {
   "application/vnd.jupyter.widget-state+json": {
    "state": {
     "007c4b178b9b4a28a3369e818d11fe24": {
      "model_module": "@jupyter-widgets/controls",
      "model_module_version": "2.0.0",
      "model_name": "HTMLStyleModel",
      "state": {
       "description_width": "",
       "font_size": null,
       "text_color": null
      }
     },
     "00c56878b7df40c29f6066f3e9176ad4": {
      "model_module": "@jupyter-widgets/base",
      "model_module_version": "2.0.0",
      "model_name": "LayoutModel",
      "state": {}
     },
     "01df4965cba244eea3a80f4a519ab4e5": {
      "model_module": "@jupyter-widgets/controls",
      "model_module_version": "2.0.0",
      "model_name": "FloatProgressModel",
      "state": {
       "layout": "IPY_MODEL_c19b6c222fe7470fb36867cd3d2383b5",
       "max": 157,
       "style": "IPY_MODEL_452969705dff40ffab20ad65794b75fa",
       "value": 157
      }
     },
     "02d1abe6dc3f4736871c2867f6a5131d": {
      "model_module": "@jupyter-widgets/controls",
      "model_module_version": "2.0.0",
      "model_name": "HTMLStyleModel",
      "state": {
       "description_width": "",
       "font_size": null,
       "text_color": null
      }
     },
     "02dd1033edaa4e58bcfebee7c823c5c3": {
      "model_module": "@jupyter-widgets/base",
      "model_module_version": "2.0.0",
      "model_name": "LayoutModel",
      "state": {
       "flex": "2"
      }
     },
     "043837d8c28141d7b6d4bac88645f048": {
      "model_module": "@jupyter-widgets/base",
      "model_module_version": "2.0.0",
      "model_name": "LayoutModel",
      "state": {}
     },
     "045c939ad69348f09c56add45c0fa7a5": {
      "model_module": "@jupyter-widgets/controls",
      "model_module_version": "2.0.0",
      "model_name": "ProgressStyleModel",
      "state": {
       "description_width": ""
      }
     },
     "04cf3357b3b14009b6e8eb8e2a711a66": {
      "model_module": "@jupyter-widgets/controls",
      "model_module_version": "2.0.0",
      "model_name": "ProgressStyleModel",
      "state": {
       "description_width": ""
      }
     },
     "04e88d151684482f992e17209492386b": {
      "model_module": "@jupyter-widgets/base",
      "model_module_version": "2.0.0",
      "model_name": "LayoutModel",
      "state": {
       "flex": "2"
      }
     },
     "04f33333830c4bc6bbaa5da38a1edd67": {
      "model_module": "@jupyter-widgets/controls",
      "model_module_version": "2.0.0",
      "model_name": "HTMLStyleModel",
      "state": {
       "description_width": "",
       "font_size": null,
       "text_color": null
      }
     },
     "07045d125336443fa86339035c877600": {
      "model_module": "@jupyter-widgets/controls",
      "model_module_version": "2.0.0",
      "model_name": "HTMLModel",
      "state": {
       "layout": "IPY_MODEL_c36d6b43f19246d3913c17ddce3b6d41",
       "style": "IPY_MODEL_bb7e028e6da54ae8bcbd799ce263046b",
       "value": "Validation DataLoader 0: 100%"
      }
     },
     "07986ce39d9043d584af1a233d764d4e": {
      "model_module": "@jupyter-widgets/controls",
      "model_module_version": "2.0.0",
      "model_name": "FloatProgressModel",
      "state": {
       "bar_style": "success",
       "layout": "IPY_MODEL_cf0ab37f4cc9460d9937e687bca5b223",
       "max": 1407,
       "style": "IPY_MODEL_1a8e71ef48ee4cfe9b0c2f58eb093e18",
       "value": 1407
      }
     },
     "0817e05b999e42da8c7ed69a3e73a784": {
      "model_module": "@jupyter-widgets/controls",
      "model_module_version": "2.0.0",
      "model_name": "ProgressStyleModel",
      "state": {
       "description_width": ""
      }
     },
     "084060fc724c468b87ab01d8eecca228": {
      "model_module": "@jupyter-widgets/controls",
      "model_module_version": "2.0.0",
      "model_name": "ProgressStyleModel",
      "state": {
       "description_width": ""
      }
     },
     "085a292a807740ee84a43c1472e3013c": {
      "model_module": "@jupyter-widgets/base",
      "model_module_version": "2.0.0",
      "model_name": "LayoutModel",
      "state": {
       "display": "inline-flex",
       "flex_flow": "row wrap",
       "visibility": "hidden",
       "width": "100%"
      }
     },
     "09bae8a133d548d68106479fccb884fa": {
      "model_module": "@jupyter-widgets/controls",
      "model_module_version": "2.0.0",
      "model_name": "HTMLStyleModel",
      "state": {
       "description_width": "",
       "font_size": null,
       "text_color": null
      }
     },
     "0a12e84a3a98416398de2b9b8a212b0e": {
      "model_module": "@jupyter-widgets/base",
      "model_module_version": "2.0.0",
      "model_name": "LayoutModel",
      "state": {}
     },
     "0a6bdb6749bb4f9e8724fdb122a55435": {
      "model_module": "@jupyter-widgets/base",
      "model_module_version": "2.0.0",
      "model_name": "LayoutModel",
      "state": {
       "flex": "2"
      }
     },
     "0a767170f3364fdc8cb3ef1d8008e3d4": {
      "model_module": "@jupyter-widgets/controls",
      "model_module_version": "2.0.0",
      "model_name": "HTMLStyleModel",
      "state": {
       "description_width": "",
       "font_size": null,
       "text_color": null
      }
     },
     "0ac3945701d04f2a9c09c930cacf328b": {
      "model_module": "@jupyter-widgets/base",
      "model_module_version": "2.0.0",
      "model_name": "LayoutModel",
      "state": {}
     },
     "0ade12d38eef4cb1a2648bdecb877fbf": {
      "model_module": "@jupyter-widgets/base",
      "model_module_version": "2.0.0",
      "model_name": "LayoutModel",
      "state": {
       "display": "inline-flex",
       "flex_flow": "row wrap",
       "visibility": "hidden",
       "width": "100%"
      }
     },
     "0b050f75feeb48e1838f388800586396": {
      "model_module": "@jupyter-widgets/base",
      "model_module_version": "2.0.0",
      "model_name": "LayoutModel",
      "state": {}
     },
     "0b97bef3f4ab41b6b625e0aefadb2f06": {
      "model_module": "@jupyter-widgets/controls",
      "model_module_version": "2.0.0",
      "model_name": "HTMLModel",
      "state": {
       "layout": "IPY_MODEL_d738da4022b14988b49c00015a5644cb",
       "style": "IPY_MODEL_dc0c69f5986c4e1db8d186de6c2804db",
       "value": " 1407/1407 [00:49&lt;00:00, 28.21it/s, v_num=1]"
      }
     },
     "0bc2a61f9a454367894fc69cb5dbf2d8": {
      "model_module": "@jupyter-widgets/controls",
      "model_module_version": "2.0.0",
      "model_name": "HTMLStyleModel",
      "state": {
       "description_width": "",
       "font_size": null,
       "text_color": null
      }
     },
     "0c16258ae4a44a9dbc5dad19431490cc": {
      "model_module": "@jupyter-widgets/controls",
      "model_module_version": "2.0.0",
      "model_name": "HTMLModel",
      "state": {
       "layout": "IPY_MODEL_a40f7855df9c4987b2557c7b38175b2a",
       "style": "IPY_MODEL_41a0f428f0ee4d12ae7edc5e32974206",
       "value": " 157/157 [00:03&lt;00:00, 39.45it/s]"
      }
     },
     "0d0298430e584a0284a32ff90658abad": {
      "model_module": "@jupyter-widgets/controls",
      "model_module_version": "2.0.0",
      "model_name": "HTMLStyleModel",
      "state": {
       "description_width": "",
       "font_size": null,
       "text_color": null
      }
     },
     "0d4b1eabb33748579d4185441af4aeb8": {
      "model_module": "@jupyter-widgets/base",
      "model_module_version": "2.0.0",
      "model_name": "LayoutModel",
      "state": {
       "flex": "2"
      }
     },
     "0dd81ba2a55940459fccc950318af7f0": {
      "model_module": "@jupyter-widgets/controls",
      "model_module_version": "2.0.0",
      "model_name": "ProgressStyleModel",
      "state": {
       "description_width": ""
      }
     },
     "0eb11c5d7ae44a919040db6bf526e545": {
      "model_module": "@jupyter-widgets/controls",
      "model_module_version": "2.0.0",
      "model_name": "HTMLStyleModel",
      "state": {
       "description_width": "",
       "font_size": null,
       "text_color": null
      }
     },
     "0fd96806add14424b3fd5b6e8fb88cc4": {
      "model_module": "@jupyter-widgets/base",
      "model_module_version": "2.0.0",
      "model_name": "LayoutModel",
      "state": {}
     },
     "111206b55d4d45bdbd11fc887d1d16a8": {
      "model_module": "@jupyter-widgets/controls",
      "model_module_version": "2.0.0",
      "model_name": "ProgressStyleModel",
      "state": {
       "description_width": ""
      }
     },
     "1202c4e4951749dc8ab96fdb95ae761c": {
      "model_module": "@jupyter-widgets/controls",
      "model_module_version": "2.0.0",
      "model_name": "HTMLStyleModel",
      "state": {
       "description_width": "",
       "font_size": null,
       "text_color": null
      }
     },
     "134230c9e5a04d729f950934696ec2a8": {
      "model_module": "@jupyter-widgets/controls",
      "model_module_version": "2.0.0",
      "model_name": "HTMLStyleModel",
      "state": {
       "description_width": "",
       "font_size": null,
       "text_color": null
      }
     },
     "1368342722b845cfa03b39a0ceaf8ec7": {
      "model_module": "@jupyter-widgets/controls",
      "model_module_version": "2.0.0",
      "model_name": "FloatProgressModel",
      "state": {
       "layout": "IPY_MODEL_be1231b1f01b429ca125a07a106b3c4d",
       "max": 157,
       "style": "IPY_MODEL_67f484c9ff6e432499be0de006241356",
       "value": 157
      }
     },
     "13a5bb2542d74a98a9427cc79eff8bfe": {
      "model_module": "@jupyter-widgets/controls",
      "model_module_version": "2.0.0",
      "model_name": "HTMLModel",
      "state": {
       "layout": "IPY_MODEL_804ce1eab33f4edb90957938c7e000c6",
       "style": "IPY_MODEL_a35f0fc26b6347a39e00f86a17a2a69d",
       "value": " 157/157 [00:03&lt;00:00, 39.63it/s]"
      }
     },
     "140605c097fb44f495c368d2691614ec": {
      "model_module": "@jupyter-widgets/base",
      "model_module_version": "2.0.0",
      "model_name": "LayoutModel",
      "state": {
       "display": "inline-flex",
       "flex_flow": "row wrap",
       "visibility": "hidden",
       "width": "100%"
      }
     },
     "151286903a514056b3f8460adeb32397": {
      "model_module": "@jupyter-widgets/base",
      "model_module_version": "2.0.0",
      "model_name": "LayoutModel",
      "state": {
       "flex": "2"
      }
     },
     "15253b87fd8147749c6dacef219c9e0b": {
      "model_module": "@jupyter-widgets/controls",
      "model_module_version": "2.0.0",
      "model_name": "HTMLStyleModel",
      "state": {
       "description_width": "",
       "font_size": null,
       "text_color": null
      }
     },
     "1560bff5f59b48f69e6dad9e9e05fb7f": {
      "model_module": "@jupyter-widgets/controls",
      "model_module_version": "2.0.0",
      "model_name": "HTMLModel",
      "state": {
       "layout": "IPY_MODEL_4c1f5d60072544a38d760641d4957d18",
       "style": "IPY_MODEL_2c2d43148fbd488dad175c9f8bd63287",
       "value": " 157/157 [00:03&lt;00:00, 40.51it/s]"
      }
     },
     "16bb1c3921714895bd731c02b9e03b84": {
      "model_module": "@jupyter-widgets/controls",
      "model_module_version": "2.0.0",
      "model_name": "FloatProgressModel",
      "state": {
       "layout": "IPY_MODEL_4f0d9f2ec5aa4e3daac34549c95276a4",
       "max": 157,
       "style": "IPY_MODEL_a6870eb8b881451e93d19ebb8c2f0bb7",
       "value": 157
      }
     },
     "170b928b0c7747f698f5f96a807ec574": {
      "model_module": "@jupyter-widgets/base",
      "model_module_version": "2.0.0",
      "model_name": "LayoutModel",
      "state": {
       "display": "inline-flex",
       "flex_flow": "row wrap",
       "visibility": "hidden",
       "width": "100%"
      }
     },
     "1757f195c7e440f59725ae3353a2d978": {
      "model_module": "@jupyter-widgets/base",
      "model_module_version": "2.0.0",
      "model_name": "LayoutModel",
      "state": {
       "flex": "2"
      }
     },
     "17599738a05f4a84839e93200fc26dbf": {
      "model_module": "@jupyter-widgets/controls",
      "model_module_version": "2.0.0",
      "model_name": "HTMLStyleModel",
      "state": {
       "description_width": "",
       "font_size": null,
       "text_color": null
      }
     },
     "1943bc35786545f79972b56213ec53fb": {
      "model_module": "@jupyter-widgets/base",
      "model_module_version": "2.0.0",
      "model_name": "LayoutModel",
      "state": {}
     },
     "19da5b2621844da0ad4d2dd1f8fd10e4": {
      "model_module": "@jupyter-widgets/base",
      "model_module_version": "2.0.0",
      "model_name": "LayoutModel",
      "state": {}
     },
     "1a3b4230d93f4acd8d7becfda0bf18fa": {
      "model_module": "@jupyter-widgets/controls",
      "model_module_version": "2.0.0",
      "model_name": "FloatProgressModel",
      "state": {
       "layout": "IPY_MODEL_93eb47a9872246718efbb7f1193b7ce4",
       "max": 157,
       "style": "IPY_MODEL_370e3576b6c147f4a54db7e4ebb5d56d",
       "value": 157
      }
     },
     "1a5ff421539b41649a89ab2d703326b4": {
      "model_module": "@jupyter-widgets/base",
      "model_module_version": "2.0.0",
      "model_name": "LayoutModel",
      "state": {}
     },
     "1a74fd62eef1442d96a296f40fd22004": {
      "model_module": "@jupyter-widgets/controls",
      "model_module_version": "2.0.0",
      "model_name": "HTMLStyleModel",
      "state": {
       "description_width": "",
       "font_size": null,
       "text_color": null
      }
     },
     "1a8e71ef48ee4cfe9b0c2f58eb093e18": {
      "model_module": "@jupyter-widgets/controls",
      "model_module_version": "2.0.0",
      "model_name": "ProgressStyleModel",
      "state": {
       "description_width": ""
      }
     },
     "1ade8b724aef4877844cddaac8f96b21": {
      "model_module": "@jupyter-widgets/controls",
      "model_module_version": "2.0.0",
      "model_name": "HTMLModel",
      "state": {
       "layout": "IPY_MODEL_5a5dfcd47ada4c759b7462b9e04cfeae",
       "style": "IPY_MODEL_4118fdd2dea74b1ab8c389d623a2f595",
       "value": "Epoch 14: 100%"
      }
     },
     "1b10f4deff424db5ba7b8bf29995cf9a": {
      "model_module": "@jupyter-widgets/controls",
      "model_module_version": "2.0.0",
      "model_name": "FloatProgressModel",
      "state": {
       "layout": "IPY_MODEL_f720423f9947410dbaf62d1ac60792e3",
       "max": 157,
       "style": "IPY_MODEL_84d36eb9ab954d89a67d70286a26e4ad",
       "value": 157
      }
     },
     "1b12e7f40525477780740946046a57e0": {
      "model_module": "@jupyter-widgets/controls",
      "model_module_version": "2.0.0",
      "model_name": "FloatProgressModel",
      "state": {
       "layout": "IPY_MODEL_582a2efef22d464d84a1d2abe1d740bc",
       "max": 157,
       "style": "IPY_MODEL_d7dfe7b52ffc49de8c9ec5c8d77100e2",
       "value": 157
      }
     },
     "1b1bf33d90434ed2a8b3f3f202cec3e3": {
      "model_module": "@jupyter-widgets/controls",
      "model_module_version": "2.0.0",
      "model_name": "HTMLModel",
      "state": {
       "layout": "IPY_MODEL_8d13a7f7baca4bbbab0ea812a1b04388",
       "style": "IPY_MODEL_007c4b178b9b4a28a3369e818d11fe24",
       "value": "Validation DataLoader 0: 100%"
      }
     },
     "1b9e0fe0f42c40a68297c007d5a7e350": {
      "model_module": "@jupyter-widgets/controls",
      "model_module_version": "2.0.0",
      "model_name": "HTMLStyleModel",
      "state": {
       "description_width": "",
       "font_size": null,
       "text_color": null
      }
     },
     "1c2b36f5d60547508c6af4c4b6862454": {
      "model_module": "@jupyter-widgets/controls",
      "model_module_version": "2.0.0",
      "model_name": "HTMLStyleModel",
      "state": {
       "description_width": "",
       "font_size": null,
       "text_color": null
      }
     },
     "1c60cec8681c4529b6dc275cdd4608fe": {
      "model_module": "@jupyter-widgets/controls",
      "model_module_version": "2.0.0",
      "model_name": "ProgressStyleModel",
      "state": {
       "description_width": ""
      }
     },
     "1c8f553ebd6448f4beabe83b7c421f15": {
      "model_module": "@jupyter-widgets/controls",
      "model_module_version": "2.0.0",
      "model_name": "HTMLStyleModel",
      "state": {
       "description_width": "",
       "font_size": null,
       "text_color": null
      }
     },
     "1decad6da6ca4dfebb22986a9f45f207": {
      "model_module": "@jupyter-widgets/controls",
      "model_module_version": "2.0.0",
      "model_name": "HTMLModel",
      "state": {
       "layout": "IPY_MODEL_8497f14175244524a5e56395d5361d8d",
       "style": "IPY_MODEL_7ce0c6f2024a4ef28b8533d8ca9325a7",
       "value": " 157/157 [00:03&lt;00:00, 50.69it/s]"
      }
     },
     "1e1381b3982a493b9e0dc55810466bfd": {
      "model_module": "@jupyter-widgets/controls",
      "model_module_version": "2.0.0",
      "model_name": "HTMLModel",
      "state": {
       "layout": "IPY_MODEL_9a4619cb30d34ffe87407e3865a91289",
       "style": "IPY_MODEL_94de68fb6d87454c94e0741d471d6c3d",
       "value": " 157/157 [00:03&lt;00:00, 51.01it/s]"
      }
     },
     "1e6c8ba8d4f54612811a4cbaad529beb": {
      "model_module": "@jupyter-widgets/controls",
      "model_module_version": "2.0.0",
      "model_name": "HTMLModel",
      "state": {
       "layout": "IPY_MODEL_a4040a7963e949538dbc086663ae30c8",
       "style": "IPY_MODEL_1202c4e4951749dc8ab96fdb95ae761c",
       "value": "Validation DataLoader 0: 100%"
      }
     },
     "1e7fd2e5492f4cb68e4442f91929d6d3": {
      "model_module": "@jupyter-widgets/controls",
      "model_module_version": "2.0.0",
      "model_name": "FloatProgressModel",
      "state": {
       "layout": "IPY_MODEL_71753fc123ad435198beb1a2076f336a",
       "max": 157,
       "style": "IPY_MODEL_d25f46738815498d97305199080d12b7",
       "value": 157
      }
     },
     "1ec2a2d8e92040128b9c677fb3f04230": {
      "model_module": "@jupyter-widgets/controls",
      "model_module_version": "2.0.0",
      "model_name": "HTMLModel",
      "state": {
       "layout": "IPY_MODEL_82df527d9cfa40a2a799a941b1bf7ae8",
       "style": "IPY_MODEL_17599738a05f4a84839e93200fc26dbf",
       "value": "Validation DataLoader 0: 100%"
      }
     },
     "1f2bd26ea77f4cabb751c18ab72856c1": {
      "model_module": "@jupyter-widgets/controls",
      "model_module_version": "2.0.0",
      "model_name": "HTMLModel",
      "state": {
       "layout": "IPY_MODEL_7bdc41b9ede24a64b352123c29a5528a",
       "style": "IPY_MODEL_66699d4c202a4d189cf4a489d83710b0",
       "value": " 157/157 [00:03&lt;00:00, 44.17it/s]"
      }
     },
     "20a82b6c76c04d4db179c37c43f54100": {
      "model_module": "@jupyter-widgets/controls",
      "model_module_version": "2.0.0",
      "model_name": "HTMLStyleModel",
      "state": {
       "description_width": "",
       "font_size": null,
       "text_color": null
      }
     },
     "211b32a80d40467a8ef30b8316030c9a": {
      "model_module": "@jupyter-widgets/controls",
      "model_module_version": "2.0.0",
      "model_name": "HTMLModel",
      "state": {
       "layout": "IPY_MODEL_3b6c62a047cf4a7089901ed7e92d1f90",
       "style": "IPY_MODEL_0d0298430e584a0284a32ff90658abad",
       "value": "Validation DataLoader 0: 100%"
      }
     },
     "2175f2daa928437e8223d841d215dab3": {
      "model_module": "@jupyter-widgets/base",
      "model_module_version": "2.0.0",
      "model_name": "LayoutModel",
      "state": {
       "flex": "2"
      }
     },
     "22292b20142e4d849c2ef552940b43fd": {
      "model_module": "@jupyter-widgets/base",
      "model_module_version": "2.0.0",
      "model_name": "LayoutModel",
      "state": {}
     },
     "225353a557ea4470be7dab09d90cee43": {
      "model_module": "@jupyter-widgets/controls",
      "model_module_version": "2.0.0",
      "model_name": "HTMLStyleModel",
      "state": {
       "description_width": "",
       "font_size": null,
       "text_color": null
      }
     },
     "225c660389064e5b83b3961194654484": {
      "model_module": "@jupyter-widgets/controls",
      "model_module_version": "2.0.0",
      "model_name": "FloatProgressModel",
      "state": {
       "layout": "IPY_MODEL_25711aaff7634dffb95c95690fb50791",
       "max": 157,
       "style": "IPY_MODEL_04cf3357b3b14009b6e8eb8e2a711a66",
       "value": 157
      }
     },
     "225f4f654d9946faa4c185adcb576f07": {
      "model_module": "@jupyter-widgets/controls",
      "model_module_version": "2.0.0",
      "model_name": "HTMLModel",
      "state": {
       "layout": "IPY_MODEL_53d99cce8cd745a39f40865baf6ffa21",
       "style": "IPY_MODEL_09bae8a133d548d68106479fccb884fa",
       "value": "Validation DataLoader 0: 100%"
      }
     },
     "22b799a7cfad41acada7c0bb67b231fb": {
      "model_module": "@jupyter-widgets/base",
      "model_module_version": "2.0.0",
      "model_name": "LayoutModel",
      "state": {
       "flex": "2"
      }
     },
     "22cfa76eaace488daf3a8c5c1ccfa16b": {
      "model_module": "@jupyter-widgets/base",
      "model_module_version": "2.0.0",
      "model_name": "LayoutModel",
      "state": {}
     },
     "23197f2ff7d744d78b7264d9e1944caa": {
      "model_module": "@jupyter-widgets/controls",
      "model_module_version": "2.0.0",
      "model_name": "HTMLModel",
      "state": {
       "layout": "IPY_MODEL_34ba3e31174044248a59c6154834e91f",
       "style": "IPY_MODEL_ce4b23019a0e48549233000a2573c5ec",
       "value": " 157/157 [00:03&lt;00:00, 39.65it/s]"
      }
     },
     "2337d9085582439caa1d84198bbe1b05": {
      "model_module": "@jupyter-widgets/controls",
      "model_module_version": "2.0.0",
      "model_name": "HTMLModel",
      "state": {
       "layout": "IPY_MODEL_358906724a614181bc769775317b8030",
       "style": "IPY_MODEL_f18202f0f15740f4819c1d1f4f0a4e3f",
       "value": "Validation DataLoader 0: 100%"
      }
     },
     "235f782001f04ffcad680a25bd0947e9": {
      "model_module": "@jupyter-widgets/controls",
      "model_module_version": "2.0.0",
      "model_name": "HTMLModel",
      "state": {
       "layout": "IPY_MODEL_420569e52b7f4722bb8a9c3c80b3cede",
       "style": "IPY_MODEL_134230c9e5a04d729f950934696ec2a8",
       "value": "Validation DataLoader 0: 100%"
      }
     },
     "23be5b53597d47f1b7b8a924ead37b29": {
      "model_module": "@jupyter-widgets/base",
      "model_module_version": "2.0.0",
      "model_name": "LayoutModel",
      "state": {
       "display": "inline-flex",
       "flex_flow": "row wrap",
       "visibility": "hidden",
       "width": "100%"
      }
     },
     "240f544b582b4982ac09f7b3fab2cf44": {
      "model_module": "@jupyter-widgets/controls",
      "model_module_version": "2.0.0",
      "model_name": "HTMLModel",
      "state": {
       "layout": "IPY_MODEL_f69f633ef6864526bb1b26ebe4c0897f",
       "style": "IPY_MODEL_8df697b843f54de494b502604f4e2cb6",
       "value": "Validation DataLoader 0: 100%"
      }
     },
     "242923383e164159886bbafccfc3d1e5": {
      "model_module": "@jupyter-widgets/controls",
      "model_module_version": "2.0.0",
      "model_name": "FloatProgressModel",
      "state": {
       "layout": "IPY_MODEL_151286903a514056b3f8460adeb32397",
       "max": 157,
       "style": "IPY_MODEL_83ffa8cf9e454d3bb2eedf59c2df5f64",
       "value": 157
      }
     },
     "25676a6899934dea8094e0d68860d001": {
      "model_module": "@jupyter-widgets/base",
      "model_module_version": "2.0.0",
      "model_name": "LayoutModel",
      "state": {}
     },
     "25711aaff7634dffb95c95690fb50791": {
      "model_module": "@jupyter-widgets/base",
      "model_module_version": "2.0.0",
      "model_name": "LayoutModel",
      "state": {
       "flex": "2"
      }
     },
     "2576d186b85d4929b68edf26b0a48ba1": {
      "model_module": "@jupyter-widgets/controls",
      "model_module_version": "2.0.0",
      "model_name": "HTMLStyleModel",
      "state": {
       "description_width": "",
       "font_size": null,
       "text_color": null
      }
     },
     "26a0244938e44c048679d5d5c2c5887d": {
      "model_module": "@jupyter-widgets/base",
      "model_module_version": "2.0.0",
      "model_name": "LayoutModel",
      "state": {}
     },
     "26b0f83357e24459a51d694fb9319ed7": {
      "model_module": "@jupyter-widgets/controls",
      "model_module_version": "2.0.0",
      "model_name": "HTMLStyleModel",
      "state": {
       "description_width": "",
       "font_size": null,
       "text_color": null
      }
     },
     "26bf058ad80f44a89eaa80f433bd7ae4": {
      "model_module": "@jupyter-widgets/controls",
      "model_module_version": "2.0.0",
      "model_name": "HTMLModel",
      "state": {
       "layout": "IPY_MODEL_490f21e333d04eefbf091d79f10a9ad6",
       "style": "IPY_MODEL_63ec54052bb74c91b2f934aab013a8a1",
       "value": "Validation DataLoader 0: 100%"
      }
     },
     "26fe6e7d24d741c895370d9664c2434a": {
      "model_module": "@jupyter-widgets/controls",
      "model_module_version": "2.0.0",
      "model_name": "FloatProgressModel",
      "state": {
       "layout": "IPY_MODEL_04e88d151684482f992e17209492386b",
       "max": 2,
       "style": "IPY_MODEL_9a53930bf0ce44c2a3eaa1f00bc94b24",
       "value": 2
      }
     },
     "2804ad7704a04d38abff7dc2db8533ca": {
      "model_module": "@jupyter-widgets/controls",
      "model_module_version": "2.0.0",
      "model_name": "ProgressStyleModel",
      "state": {
       "description_width": ""
      }
     },
     "291ab032f1844cb4b961e6c286b78aae": {
      "model_module": "@jupyter-widgets/controls",
      "model_module_version": "2.0.0",
      "model_name": "HTMLStyleModel",
      "state": {
       "description_width": "",
       "font_size": null,
       "text_color": null
      }
     },
     "29ee6c36304d4b4580e19bd5e7125c19": {
      "model_module": "@jupyter-widgets/controls",
      "model_module_version": "2.0.0",
      "model_name": "HTMLStyleModel",
      "state": {
       "description_width": "",
       "font_size": null,
       "text_color": null
      }
     },
     "2a25fe5ecabc4c8ea04b4ae3844381b4": {
      "model_module": "@jupyter-widgets/controls",
      "model_module_version": "2.0.0",
      "model_name": "HTMLStyleModel",
      "state": {
       "description_width": "",
       "font_size": null,
       "text_color": null
      }
     },
     "2a4f763a23e94007acc7fd3a6f211257": {
      "model_module": "@jupyter-widgets/controls",
      "model_module_version": "2.0.0",
      "model_name": "HTMLModel",
      "state": {
       "layout": "IPY_MODEL_410375b45a2145fcbefb9a32d3373c93",
       "style": "IPY_MODEL_f793ba447ccb4c689cd30e250cbd79ee",
       "value": " 157/157 [00:03&lt;00:00, 39.98it/s]"
      }
     },
     "2aeb42f3f2ae488f87cebf9e59b1402e": {
      "model_module": "@jupyter-widgets/base",
      "model_module_version": "2.0.0",
      "model_name": "LayoutModel",
      "state": {
       "display": "inline-flex",
       "flex_flow": "row wrap",
       "visibility": "hidden",
       "width": "100%"
      }
     },
     "2bbfce4efe2d41c9a45f000383080e52": {
      "model_module": "@jupyter-widgets/controls",
      "model_module_version": "2.0.0",
      "model_name": "HTMLModel",
      "state": {
       "layout": "IPY_MODEL_bf5f3ed06bf2482a827be5dd9246d83a",
       "style": "IPY_MODEL_5f024b9416ce47139d8ab2da246ccad5",
       "value": " 157/157 [00:03&lt;00:00, 39.37it/s]"
      }
     },
     "2c2d43148fbd488dad175c9f8bd63287": {
      "model_module": "@jupyter-widgets/controls",
      "model_module_version": "2.0.0",
      "model_name": "HTMLStyleModel",
      "state": {
       "description_width": "",
       "font_size": null,
       "text_color": null
      }
     },
     "2db74c53513a4fec9cd4528a93910b9a": {
      "model_module": "@jupyter-widgets/controls",
      "model_module_version": "2.0.0",
      "model_name": "HTMLModel",
      "state": {
       "layout": "IPY_MODEL_f3ca978010fa4dea81ce1b099ef111cd",
       "style": "IPY_MODEL_fc808f94834c46d280090f3a37cb9193",
       "value": " 157/157 [00:03&lt;00:00, 50.43it/s]"
      }
     },
     "2dfa91b6147247af9ea682763a945e12": {
      "model_module": "@jupyter-widgets/controls",
      "model_module_version": "2.0.0",
      "model_name": "HTMLStyleModel",
      "state": {
       "description_width": "",
       "font_size": null,
       "text_color": null
      }
     },
     "2e622727fab9448e9069dc2d1163c8c4": {
      "model_module": "@jupyter-widgets/base",
      "model_module_version": "2.0.0",
      "model_name": "LayoutModel",
      "state": {
       "flex": "2"
      }
     },
     "2ef227834cd84f35be06c77e18bd8a58": {
      "model_module": "@jupyter-widgets/base",
      "model_module_version": "2.0.0",
      "model_name": "LayoutModel",
      "state": {}
     },
     "2f496cf7c3e34da6b62f7e7eae0ef0cf": {
      "model_module": "@jupyter-widgets/controls",
      "model_module_version": "2.0.0",
      "model_name": "HTMLStyleModel",
      "state": {
       "description_width": "",
       "font_size": null,
       "text_color": null
      }
     },
     "2f5b94522c3647b8b7255724d255d860": {
      "model_module": "@jupyter-widgets/controls",
      "model_module_version": "2.0.0",
      "model_name": "HTMLStyleModel",
      "state": {
       "description_width": "",
       "font_size": null,
       "text_color": null
      }
     },
     "2f6c985be7c249e593474a8cf941c7cb": {
      "model_module": "@jupyter-widgets/controls",
      "model_module_version": "2.0.0",
      "model_name": "HTMLModel",
      "state": {
       "layout": "IPY_MODEL_66484781e31845c1997ac4b72cf87491",
       "style": "IPY_MODEL_15253b87fd8147749c6dacef219c9e0b",
       "value": "Validation DataLoader 0: 100%"
      }
     },
     "3021ec247dd14be6a3ae843f05878238": {
      "model_module": "@jupyter-widgets/controls",
      "model_module_version": "2.0.0",
      "model_name": "HTMLModel",
      "state": {
       "layout": "IPY_MODEL_1a5ff421539b41649a89ab2d703326b4",
       "style": "IPY_MODEL_1c8f553ebd6448f4beabe83b7c421f15",
       "value": "Epoch 14: 100%"
      }
     },
     "30b3a8919a3b4da391b72615650ecd3e": {
      "model_module": "@jupyter-widgets/base",
      "model_module_version": "2.0.0",
      "model_name": "LayoutModel",
      "state": {}
     },
     "3120183b9140415b9d91dfd409030648": {
      "model_module": "@jupyter-widgets/base",
      "model_module_version": "2.0.0",
      "model_name": "LayoutModel",
      "state": {
       "flex": "2"
      }
     },
     "3136d919b48844e8aed6f7179060a1c0": {
      "model_module": "@jupyter-widgets/controls",
      "model_module_version": "2.0.0",
      "model_name": "HTMLStyleModel",
      "state": {
       "description_width": "",
       "font_size": null,
       "text_color": null
      }
     },
     "316fa5fd07f7422cbca2895b3c820c31": {
      "model_module": "@jupyter-widgets/controls",
      "model_module_version": "2.0.0",
      "model_name": "HTMLStyleModel",
      "state": {
       "description_width": "",
       "font_size": null,
       "text_color": null
      }
     },
     "31a6f66c1e684be1b06bb5d782e65679": {
      "model_module": "@jupyter-widgets/controls",
      "model_module_version": "2.0.0",
      "model_name": "FloatProgressModel",
      "state": {
       "layout": "IPY_MODEL_75324bf84ce642bd90a071bee4a93f6d",
       "max": 157,
       "style": "IPY_MODEL_fc36ef3be1804c8eb704228c5987682c",
       "value": 157
      }
     },
     "31a904f9a65c4f94af676acbc7f974cd": {
      "model_module": "@jupyter-widgets/controls",
      "model_module_version": "2.0.0",
      "model_name": "ProgressStyleModel",
      "state": {
       "description_width": ""
      }
     },
     "3207aa8feba442b1a1dcadea6089572c": {
      "model_module": "@jupyter-widgets/controls",
      "model_module_version": "2.0.0",
      "model_name": "HTMLModel",
      "state": {
       "layout": "IPY_MODEL_aa2747778186495eadb8e145f5aa31b8",
       "style": "IPY_MODEL_bc01bb63c40a44bea4ebb7471c8fcdf4",
       "value": "Validation DataLoader 0: 100%"
      }
     },
     "32ed1e46ee1644a89a37c71daf631cea": {
      "model_module": "@jupyter-widgets/base",
      "model_module_version": "2.0.0",
      "model_name": "LayoutModel",
      "state": {
       "display": "inline-flex",
       "flex_flow": "row wrap",
       "visibility": "hidden",
       "width": "100%"
      }
     },
     "3447eb92ab8844cfab00424b199806c0": {
      "model_module": "@jupyter-widgets/controls",
      "model_module_version": "2.0.0",
      "model_name": "HTMLStyleModel",
      "state": {
       "description_width": "",
       "font_size": null,
       "text_color": null
      }
     },
     "34a7463354474b70b2ed95120c66af87": {
      "model_module": "@jupyter-widgets/controls",
      "model_module_version": "2.0.0",
      "model_name": "HTMLModel",
      "state": {
       "layout": "IPY_MODEL_e13324d4775e4b608c9cdce11c56652b",
       "style": "IPY_MODEL_ef9a57ce03c04f308772bf34e2317ef7",
       "value": " 157/157 [00:04&lt;00:00, 38.61it/s]"
      }
     },
     "34ba3e31174044248a59c6154834e91f": {
      "model_module": "@jupyter-widgets/base",
      "model_module_version": "2.0.0",
      "model_name": "LayoutModel",
      "state": {}
     },
     "35442ba2237045f7a8ed075a5c821e0b": {
      "model_module": "@jupyter-widgets/base",
      "model_module_version": "2.0.0",
      "model_name": "LayoutModel",
      "state": {}
     },
     "358906724a614181bc769775317b8030": {
      "model_module": "@jupyter-widgets/base",
      "model_module_version": "2.0.0",
      "model_name": "LayoutModel",
      "state": {}
     },
     "36045e265c0f442eb76b2679c0aebb32": {
      "model_module": "@jupyter-widgets/controls",
      "model_module_version": "2.0.0",
      "model_name": "HTMLModel",
      "state": {
       "layout": "IPY_MODEL_e4ab5e4ede0e4968b99c3aa862cd9e55",
       "style": "IPY_MODEL_e0da50cd282e43c2a24cef14e41ad0ee",
       "value": " 157/157 [00:04&lt;00:00, 38.81it/s]"
      }
     },
     "3616cab5dd0b4271ba355367b4f0a1e6": {
      "model_module": "@jupyter-widgets/base",
      "model_module_version": "2.0.0",
      "model_name": "LayoutModel",
      "state": {}
     },
     "368bcfe199514d0ab98dc58a7ae041af": {
      "model_module": "@jupyter-widgets/controls",
      "model_module_version": "2.0.0",
      "model_name": "ProgressStyleModel",
      "state": {
       "description_width": ""
      }
     },
     "36f6ea0514794f0a93af2f36d4034b9b": {
      "model_module": "@jupyter-widgets/base",
      "model_module_version": "2.0.0",
      "model_name": "LayoutModel",
      "state": {
       "flex": "2"
      }
     },
     "370e3576b6c147f4a54db7e4ebb5d56d": {
      "model_module": "@jupyter-widgets/controls",
      "model_module_version": "2.0.0",
      "model_name": "ProgressStyleModel",
      "state": {
       "description_width": ""
      }
     },
     "376cfe2d50c54ac8a1bc794496e7d12e": {
      "model_module": "@jupyter-widgets/controls",
      "model_module_version": "2.0.0",
      "model_name": "ProgressStyleModel",
      "state": {
       "description_width": ""
      }
     },
     "383009b9b25b48968a901114b69499c7": {
      "model_module": "@jupyter-widgets/base",
      "model_module_version": "2.0.0",
      "model_name": "LayoutModel",
      "state": {}
     },
     "383ae7fb4b424a13afce964e6ad9c524": {
      "model_module": "@jupyter-widgets/controls",
      "model_module_version": "2.0.0",
      "model_name": "HTMLStyleModel",
      "state": {
       "description_width": "",
       "font_size": null,
       "text_color": null
      }
     },
     "383c72b9163741bab88d0f7687a350fe": {
      "model_module": "@jupyter-widgets/base",
      "model_module_version": "2.0.0",
      "model_name": "LayoutModel",
      "state": {
       "display": "inline-flex",
       "flex_flow": "row wrap",
       "visibility": "hidden",
       "width": "100%"
      }
     },
     "397873a055f64a56bca8b674ae01f606": {
      "model_module": "@jupyter-widgets/controls",
      "model_module_version": "2.0.0",
      "model_name": "HTMLModel",
      "state": {
       "layout": "IPY_MODEL_80fe23f9867c47e287cc635d1e0a68f3",
       "style": "IPY_MODEL_e871c79222a3498a85f64733f62c6877",
       "value": "Validation DataLoader 0: 100%"
      }
     },
     "3996ae7d4fb648e6a00b8fbf14d719a4": {
      "model_module": "@jupyter-widgets/base",
      "model_module_version": "2.0.0",
      "model_name": "LayoutModel",
      "state": {}
     },
     "3b5283ebea634d3185719edf2b0c6b1f": {
      "model_module": "@jupyter-widgets/base",
      "model_module_version": "2.0.0",
      "model_name": "LayoutModel",
      "state": {}
     },
     "3b58415b0a7f43a0b91c9a79bd8da227": {
      "model_module": "@jupyter-widgets/controls",
      "model_module_version": "2.0.0",
      "model_name": "HTMLModel",
      "state": {
       "layout": "IPY_MODEL_95b46deae6024b5fa04430cadfe1ae09",
       "style": "IPY_MODEL_a18ad516347d46f08f43ae89e6c35f1c",
       "value": " 157/157 [00:04&lt;00:00, 38.58it/s]"
      }
     },
     "3b6c62a047cf4a7089901ed7e92d1f90": {
      "model_module": "@jupyter-widgets/base",
      "model_module_version": "2.0.0",
      "model_name": "LayoutModel",
      "state": {}
     },
     "3bec9c9845c746a9a191d9c372b94539": {
      "model_module": "@jupyter-widgets/controls",
      "model_module_version": "2.0.0",
      "model_name": "HTMLStyleModel",
      "state": {
       "description_width": "",
       "font_size": null,
       "text_color": null
      }
     },
     "3e393fe00db045158ba5ea8a1a8f3c48": {
      "model_module": "@jupyter-widgets/controls",
      "model_module_version": "2.0.0",
      "model_name": "HTMLStyleModel",
      "state": {
       "description_width": "",
       "font_size": null,
       "text_color": null
      }
     },
     "3e8f46ff6da349b188e71086b319e668": {
      "model_module": "@jupyter-widgets/base",
      "model_module_version": "2.0.0",
      "model_name": "LayoutModel",
      "state": {
       "display": "inline-flex",
       "flex_flow": "row wrap",
       "visibility": "hidden",
       "width": "100%"
      }
     },
     "3f0d8b6235d54bdfafa3958d9742f3a4": {
      "model_module": "@jupyter-widgets/base",
      "model_module_version": "2.0.0",
      "model_name": "LayoutModel",
      "state": {
       "flex": "2"
      }
     },
     "4102faa1266b429481dcb4c52de37689": {
      "model_module": "@jupyter-widgets/controls",
      "model_module_version": "2.0.0",
      "model_name": "HTMLModel",
      "state": {
       "layout": "IPY_MODEL_22cfa76eaace488daf3a8c5c1ccfa16b",
       "style": "IPY_MODEL_26b0f83357e24459a51d694fb9319ed7",
       "value": " 157/157 [00:03&lt;00:00, 43.93it/s]"
      }
     },
     "410375b45a2145fcbefb9a32d3373c93": {
      "model_module": "@jupyter-widgets/base",
      "model_module_version": "2.0.0",
      "model_name": "LayoutModel",
      "state": {}
     },
     "4118fdd2dea74b1ab8c389d623a2f595": {
      "model_module": "@jupyter-widgets/controls",
      "model_module_version": "2.0.0",
      "model_name": "HTMLStyleModel",
      "state": {
       "description_width": "",
       "font_size": null,
       "text_color": null
      }
     },
     "41a0f428f0ee4d12ae7edc5e32974206": {
      "model_module": "@jupyter-widgets/controls",
      "model_module_version": "2.0.0",
      "model_name": "HTMLStyleModel",
      "state": {
       "description_width": "",
       "font_size": null,
       "text_color": null
      }
     },
     "41a3866b70f44b6184c60c46ffbfae3d": {
      "model_module": "@jupyter-widgets/base",
      "model_module_version": "2.0.0",
      "model_name": "LayoutModel",
      "state": {}
     },
     "420569e52b7f4722bb8a9c3c80b3cede": {
      "model_module": "@jupyter-widgets/base",
      "model_module_version": "2.0.0",
      "model_name": "LayoutModel",
      "state": {}
     },
     "424a17df393b421194ec9b90cfa2df50": {
      "model_module": "@jupyter-widgets/base",
      "model_module_version": "2.0.0",
      "model_name": "LayoutModel",
      "state": {}
     },
     "4282f9212b2c4f2b9b8d7c32b24abd04": {
      "model_module": "@jupyter-widgets/base",
      "model_module_version": "2.0.0",
      "model_name": "LayoutModel",
      "state": {}
     },
     "428f0930a6164348a73fd521f6d1a5a4": {
      "model_module": "@jupyter-widgets/controls",
      "model_module_version": "2.0.0",
      "model_name": "HBoxModel",
      "state": {
       "children": [
        "IPY_MODEL_3021ec247dd14be6a3ae843f05878238",
        "IPY_MODEL_cc55f5ebd3b9489981da91122fbaff29",
        "IPY_MODEL_ba16fe047014480ebcb7cbf034504231"
       ],
       "layout": "IPY_MODEL_8aa99bb60151491cb6e76be5083a51ea"
      }
     },
     "429a4bb81c8d4e01a8d8fdd1f7572ac0": {
      "model_module": "@jupyter-widgets/controls",
      "model_module_version": "2.0.0",
      "model_name": "HTMLModel",
      "state": {
       "layout": "IPY_MODEL_0ac3945701d04f2a9c09c930cacf328b",
       "style": "IPY_MODEL_d11c2378df6e473bb12910f0ece88406",
       "value": " 157/157 [00:03&lt;00:00, 50.46it/s]"
      }
     },
     "445a8d4998714690b75a66ac9ed42c36": {
      "model_module": "@jupyter-widgets/controls",
      "model_module_version": "2.0.0",
      "model_name": "HTMLModel",
      "state": {
       "layout": "IPY_MODEL_1943bc35786545f79972b56213ec53fb",
       "style": "IPY_MODEL_02d1abe6dc3f4736871c2867f6a5131d",
       "value": "Validation DataLoader 0: 100%"
      }
     },
     "446ba8a326514738b31f86b7f0c6c19c": {
      "model_module": "@jupyter-widgets/controls",
      "model_module_version": "2.0.0",
      "model_name": "FloatProgressModel",
      "state": {
       "layout": "IPY_MODEL_583b1a31a6704ee59c586614ced2187d",
       "max": 157,
       "style": "IPY_MODEL_a320eed06ed34e31875ca826c3aafe0d",
       "value": 157
      }
     },
     "449c72d13bae496ea2844475501f7305": {
      "model_module": "@jupyter-widgets/controls",
      "model_module_version": "2.0.0",
      "model_name": "FloatProgressModel",
      "state": {
       "layout": "IPY_MODEL_d5c91e35b61f49949d6ad2a6ce079bc4",
       "max": 157,
       "style": "IPY_MODEL_5a441d5d714442f1a1c5dc214d9f5d15",
       "value": 157
      }
     },
     "44d8bddec6264de4a00600e0a8e0cdd1": {
      "model_module": "@jupyter-widgets/controls",
      "model_module_version": "2.0.0",
      "model_name": "ProgressStyleModel",
      "state": {
       "description_width": ""
      }
     },
     "452969705dff40ffab20ad65794b75fa": {
      "model_module": "@jupyter-widgets/controls",
      "model_module_version": "2.0.0",
      "model_name": "ProgressStyleModel",
      "state": {
       "description_width": ""
      }
     },
     "4545eca7dadd45b6a4a8e969c9d04be1": {
      "model_module": "@jupyter-widgets/controls",
      "model_module_version": "2.0.0",
      "model_name": "HTMLStyleModel",
      "state": {
       "description_width": "",
       "font_size": null,
       "text_color": null
      }
     },
     "475b2054dbee4d868f65db58aed4ed51": {
      "model_module": "@jupyter-widgets/base",
      "model_module_version": "2.0.0",
      "model_name": "LayoutModel",
      "state": {
       "display": "inline-flex",
       "flex_flow": "row wrap",
       "visibility": "hidden",
       "width": "100%"
      }
     },
     "477a7a76a13045a3a74fe5304b012839": {
      "model_module": "@jupyter-widgets/controls",
      "model_module_version": "2.0.0",
      "model_name": "FloatProgressModel",
      "state": {
       "layout": "IPY_MODEL_a57f1c4a0d1b426294e428fb0c1a57b3",
       "max": 157,
       "style": "IPY_MODEL_829fb8fccba84124ae2fe65193119f4f",
       "value": 157
      }
     },
     "47f32102d2114b5d81dcb45ad60befe4": {
      "model_module": "@jupyter-widgets/controls",
      "model_module_version": "2.0.0",
      "model_name": "HTMLStyleModel",
      "state": {
       "description_width": "",
       "font_size": null,
       "text_color": null
      }
     },
     "490f21e333d04eefbf091d79f10a9ad6": {
      "model_module": "@jupyter-widgets/base",
      "model_module_version": "2.0.0",
      "model_name": "LayoutModel",
      "state": {}
     },
     "494bffdba06e4a52a2e85375428c2835": {
      "model_module": "@jupyter-widgets/controls",
      "model_module_version": "2.0.0",
      "model_name": "HTMLModel",
      "state": {
       "layout": "IPY_MODEL_35442ba2237045f7a8ed075a5c821e0b",
       "style": "IPY_MODEL_87d79855929a454f987c050456150602",
       "value": " 157/157 [00:03&lt;00:00, 42.54it/s]"
      }
     },
     "49a891d9e7b94ce78539b30c3e5b9358": {
      "model_module": "@jupyter-widgets/base",
      "model_module_version": "2.0.0",
      "model_name": "LayoutModel",
      "state": {
       "flex": "2"
      }
     },
     "49e040064bb846ac9ec12a2531101d03": {
      "model_module": "@jupyter-widgets/controls",
      "model_module_version": "2.0.0",
      "model_name": "HTMLModel",
      "state": {
       "layout": "IPY_MODEL_92e14e55c80448af98cbc409cc2278ca",
       "style": "IPY_MODEL_6f64deaf90ac4cdfb6f4d7024977a0ff",
       "value": "Validation DataLoader 0: 100%"
      }
     },
     "4ae12c407b244c93a68ed4da5558c318": {
      "model_module": "@jupyter-widgets/controls",
      "model_module_version": "2.0.0",
      "model_name": "HTMLModel",
      "state": {
       "layout": "IPY_MODEL_4b943067fb6947769c77e78d2ac40d78",
       "style": "IPY_MODEL_47f32102d2114b5d81dcb45ad60befe4",
       "value": "Validation DataLoader 0: 100%"
      }
     },
     "4b0fe828cac14be7a05d084a81e4e991": {
      "model_module": "@jupyter-widgets/controls",
      "model_module_version": "2.0.0",
      "model_name": "HTMLStyleModel",
      "state": {
       "description_width": "",
       "font_size": null,
       "text_color": null
      }
     },
     "4b943067fb6947769c77e78d2ac40d78": {
      "model_module": "@jupyter-widgets/base",
      "model_module_version": "2.0.0",
      "model_name": "LayoutModel",
      "state": {}
     },
     "4bcaacbffa104dd29d9dd0037497455d": {
      "model_module": "@jupyter-widgets/base",
      "model_module_version": "2.0.0",
      "model_name": "LayoutModel",
      "state": {
       "flex": "2"
      }
     },
     "4c1f5d60072544a38d760641d4957d18": {
      "model_module": "@jupyter-widgets/base",
      "model_module_version": "2.0.0",
      "model_name": "LayoutModel",
      "state": {}
     },
     "4c2179f145b54253bed4693ff0ec1e0a": {
      "model_module": "@jupyter-widgets/base",
      "model_module_version": "2.0.0",
      "model_name": "LayoutModel",
      "state": {}
     },
     "4c3155306b8f45a79aca677bad5a513d": {
      "model_module": "@jupyter-widgets/controls",
      "model_module_version": "2.0.0",
      "model_name": "HTMLStyleModel",
      "state": {
       "description_width": "",
       "font_size": null,
       "text_color": null
      }
     },
     "4c5597d345e349d7b0dca91b4b73d0f3": {
      "model_module": "@jupyter-widgets/base",
      "model_module_version": "2.0.0",
      "model_name": "LayoutModel",
      "state": {}
     },
     "4c810ee7952546628b6541ec0709f446": {
      "model_module": "@jupyter-widgets/controls",
      "model_module_version": "2.0.0",
      "model_name": "HTMLStyleModel",
      "state": {
       "description_width": "",
       "font_size": null,
       "text_color": null
      }
     },
     "4d5d0ce623c946f8a5087c0d3931d492": {
      "model_module": "@jupyter-widgets/controls",
      "model_module_version": "2.0.0",
      "model_name": "ProgressStyleModel",
      "state": {
       "description_width": ""
      }
     },
     "4db35e42c6b64f0aa1a34b6e5276ad84": {
      "model_module": "@jupyter-widgets/controls",
      "model_module_version": "2.0.0",
      "model_name": "HTMLStyleModel",
      "state": {
       "description_width": "",
       "font_size": null,
       "text_color": null
      }
     },
     "4f0d9f2ec5aa4e3daac34549c95276a4": {
      "model_module": "@jupyter-widgets/base",
      "model_module_version": "2.0.0",
      "model_name": "LayoutModel",
      "state": {
       "flex": "2"
      }
     },
     "4f7fe8e066534a80b7dc610daee1911d": {
      "model_module": "@jupyter-widgets/base",
      "model_module_version": "2.0.0",
      "model_name": "LayoutModel",
      "state": {}
     },
     "4fbcbeb0619d4a76916f7e65655b5e1f": {
      "model_module": "@jupyter-widgets/controls",
      "model_module_version": "2.0.0",
      "model_name": "FloatProgressModel",
      "state": {
       "layout": "IPY_MODEL_857ee1fe73704a5bbb60a88ca8e3f1b2",
       "max": 157,
       "style": "IPY_MODEL_65a19b7a313d4a0ca936d260ff2ffddc",
       "value": 157
      }
     },
     "5041c7003e58449fbbf50f34d4187393": {
      "model_module": "@jupyter-widgets/controls",
      "model_module_version": "2.0.0",
      "model_name": "HTMLStyleModel",
      "state": {
       "description_width": "",
       "font_size": null,
       "text_color": null
      }
     },
     "50c859f2432e45b8be01407952763725": {
      "model_module": "@jupyter-widgets/base",
      "model_module_version": "2.0.0",
      "model_name": "LayoutModel",
      "state": {
       "flex": "2"
      }
     },
     "5113532f1d2945c3b3b011ae4d1f8b04": {
      "model_module": "@jupyter-widgets/controls",
      "model_module_version": "2.0.0",
      "model_name": "HTMLStyleModel",
      "state": {
       "description_width": "",
       "font_size": null,
       "text_color": null
      }
     },
     "522ff0f895794e3dbcc4836d8ce9187e": {
      "model_module": "@jupyter-widgets/controls",
      "model_module_version": "2.0.0",
      "model_name": "FloatProgressModel",
      "state": {
       "layout": "IPY_MODEL_36f6ea0514794f0a93af2f36d4034b9b",
       "max": 157,
       "style": "IPY_MODEL_8acfe742b7c14a24810a606b38c983d4",
       "value": 157
      }
     },
     "52a3612cb16c4561aa4502053fc86c8d": {
      "model_module": "@jupyter-widgets/controls",
      "model_module_version": "2.0.0",
      "model_name": "HTMLModel",
      "state": {
       "layout": "IPY_MODEL_b4b34fcefeb147b4bc0ea3d6396b234d",
       "style": "IPY_MODEL_4db35e42c6b64f0aa1a34b6e5276ad84",
       "value": " 157/157 [00:03&lt;00:00, 41.78it/s]"
      }
     },
     "532013f741bb48819cc0b3f4eddd66cc": {
      "model_module": "@jupyter-widgets/base",
      "model_module_version": "2.0.0",
      "model_name": "LayoutModel",
      "state": {
       "display": "inline-flex",
       "flex_flow": "row wrap",
       "visibility": "hidden",
       "width": "100%"
      }
     },
     "53d99cce8cd745a39f40865baf6ffa21": {
      "model_module": "@jupyter-widgets/base",
      "model_module_version": "2.0.0",
      "model_name": "LayoutModel",
      "state": {}
     },
     "545579660e58450eae3a7b0492bf3875": {
      "model_module": "@jupyter-widgets/controls",
      "model_module_version": "2.0.0",
      "model_name": "HTMLModel",
      "state": {
       "layout": "IPY_MODEL_62833e94b58c49a1af5d068ffed42346",
       "style": "IPY_MODEL_c48f275137f7463f8af84366b8c73c63",
       "value": " 157/157 [00:03&lt;00:00, 50.36it/s]"
      }
     },
     "54ec9091c31141d8b2dbd98f28a744dd": {
      "model_module": "@jupyter-widgets/controls",
      "model_module_version": "2.0.0",
      "model_name": "FloatProgressModel",
      "state": {
       "layout": "IPY_MODEL_fc0eba2311b5474295631ef4b768fc16",
       "max": 157,
       "style": "IPY_MODEL_df7da4cd1a5f4ce197a3955c2eb30f91",
       "value": 157
      }
     },
     "56b273ae309046a688fbe6fc4920e2d6": {
      "model_module": "@jupyter-widgets/controls",
      "model_module_version": "2.0.0",
      "model_name": "HTMLModel",
      "state": {
       "layout": "IPY_MODEL_b86f1bd90d6243c899399f0960abc29c",
       "style": "IPY_MODEL_c9b118d7fbf24ad8a01d49d336b95862",
       "value": " 157/157 [00:03&lt;00:00, 44.32it/s]"
      }
     },
     "57fc865dd4094b73b1e1e33c7da642a1": {
      "model_module": "@jupyter-widgets/controls",
      "model_module_version": "2.0.0",
      "model_name": "HTMLModel",
      "state": {
       "layout": "IPY_MODEL_c121313fe3b64bea949e36b414415ad9",
       "style": "IPY_MODEL_2f5b94522c3647b8b7255724d255d860",
       "value": " 157/157 [00:03&lt;00:00, 44.03it/s]"
      }
     },
     "582a2efef22d464d84a1d2abe1d740bc": {
      "model_module": "@jupyter-widgets/base",
      "model_module_version": "2.0.0",
      "model_name": "LayoutModel",
      "state": {
       "flex": "2"
      }
     },
     "583b1a31a6704ee59c586614ced2187d": {
      "model_module": "@jupyter-widgets/base",
      "model_module_version": "2.0.0",
      "model_name": "LayoutModel",
      "state": {
       "flex": "2"
      }
     },
     "584bb04f57c54e5783c27eb7314314e9": {
      "model_module": "@jupyter-widgets/controls",
      "model_module_version": "2.0.0",
      "model_name": "FloatProgressModel",
      "state": {
       "bar_style": "success",
       "layout": "IPY_MODEL_02dd1033edaa4e58bcfebee7c823c5c3",
       "max": 1407,
       "style": "IPY_MODEL_e983796a69a243649ddb52334af1d89c",
       "value": 1407
      }
     },
     "586c9b803d3d4707ba1c310f2a7a1b6d": {
      "model_module": "@jupyter-widgets/base",
      "model_module_version": "2.0.0",
      "model_name": "LayoutModel",
      "state": {}
     },
     "5884516efb3a42f6962da8b453b28bca": {
      "model_module": "@jupyter-widgets/base",
      "model_module_version": "2.0.0",
      "model_name": "LayoutModel",
      "state": {}
     },
     "593eb72c4ce1468e91bc002fb107234f": {
      "model_module": "@jupyter-widgets/base",
      "model_module_version": "2.0.0",
      "model_name": "LayoutModel",
      "state": {
       "flex": "2"
      }
     },
     "59447d6a641540d884229d929945e441": {
      "model_module": "@jupyter-widgets/controls",
      "model_module_version": "2.0.0",
      "model_name": "FloatProgressModel",
      "state": {
       "layout": "IPY_MODEL_ec05aa8e9aed46ae8215c81d470ab85e",
       "max": 157,
       "style": "IPY_MODEL_df057870f49a4d5babcb702297a70cb1",
       "value": 157
      }
     },
     "594fd5ad0437443fa922b99bd8ae5eda": {
      "model_module": "@jupyter-widgets/controls",
      "model_module_version": "2.0.0",
      "model_name": "HTMLModel",
      "state": {
       "layout": "IPY_MODEL_8829558f74f944c180179555042ae3bd",
       "style": "IPY_MODEL_a8582d2b278840b98fea5c665d5de406",
       "value": " 157/157 [00:03&lt;00:00, 43.75it/s]"
      }
     },
     "5a441d5d714442f1a1c5dc214d9f5d15": {
      "model_module": "@jupyter-widgets/controls",
      "model_module_version": "2.0.0",
      "model_name": "ProgressStyleModel",
      "state": {
       "description_width": ""
      }
     },
     "5a5dfcd47ada4c759b7462b9e04cfeae": {
      "model_module": "@jupyter-widgets/base",
      "model_module_version": "2.0.0",
      "model_name": "LayoutModel",
      "state": {}
     },
     "5aa81e377c7645c089bf7a3cf8aa1361": {
      "model_module": "@jupyter-widgets/controls",
      "model_module_version": "2.0.0",
      "model_name": "HTMLModel",
      "state": {
       "layout": "IPY_MODEL_4c5597d345e349d7b0dca91b4b73d0f3",
       "style": "IPY_MODEL_783fcb3ec36a4086ac0c77f86010f756",
       "value": "Validation DataLoader 0: 100%"
      }
     },
     "5ab915b7916c461bb84e6ce605e1a448": {
      "model_module": "@jupyter-widgets/controls",
      "model_module_version": "2.0.0",
      "model_name": "HTMLStyleModel",
      "state": {
       "description_width": "",
       "font_size": null,
       "text_color": null
      }
     },
     "5b1260527eba4e85abfa456c307f8543": {
      "model_module": "@jupyter-widgets/controls",
      "model_module_version": "2.0.0",
      "model_name": "ProgressStyleModel",
      "state": {
       "description_width": ""
      }
     },
     "5bbc924907244cb7b52d75be858206a1": {
      "model_module": "@jupyter-widgets/base",
      "model_module_version": "2.0.0",
      "model_name": "LayoutModel",
      "state": {}
     },
     "5c6017d16c124e7fb7c4ed0fe1f1dc3b": {
      "model_module": "@jupyter-widgets/base",
      "model_module_version": "2.0.0",
      "model_name": "LayoutModel",
      "state": {
       "display": "inline-flex",
       "flex_flow": "row wrap",
       "visibility": "hidden",
       "width": "100%"
      }
     },
     "5c83b37a3e6a46eabe38a2cf7dfdbdd3": {
      "model_module": "@jupyter-widgets/base",
      "model_module_version": "2.0.0",
      "model_name": "LayoutModel",
      "state": {
       "flex": "2"
      }
     },
     "5e62b76463c74e3b9798f07a1402d039": {
      "model_module": "@jupyter-widgets/base",
      "model_module_version": "2.0.0",
      "model_name": "LayoutModel",
      "state": {}
     },
     "5f024b9416ce47139d8ab2da246ccad5": {
      "model_module": "@jupyter-widgets/controls",
      "model_module_version": "2.0.0",
      "model_name": "HTMLStyleModel",
      "state": {
       "description_width": "",
       "font_size": null,
       "text_color": null
      }
     },
     "5f1ec59c2a9b4d79bd19af9dc1e6160e": {
      "model_module": "@jupyter-widgets/controls",
      "model_module_version": "2.0.0",
      "model_name": "ProgressStyleModel",
      "state": {
       "description_width": ""
      }
     },
     "5fdb3ff1764442fab0b065c55185f887": {
      "model_module": "@jupyter-widgets/controls",
      "model_module_version": "2.0.0",
      "model_name": "HTMLModel",
      "state": {
       "layout": "IPY_MODEL_97311482f8e4477f80e92f2e282082da",
       "style": "IPY_MODEL_4c3155306b8f45a79aca677bad5a513d",
       "value": "Validation DataLoader 0: 100%"
      }
     },
     "62833e94b58c49a1af5d068ffed42346": {
      "model_module": "@jupyter-widgets/base",
      "model_module_version": "2.0.0",
      "model_name": "LayoutModel",
      "state": {}
     },
     "62fee51080f44c71a86c81898ff36793": {
      "model_module": "@jupyter-widgets/base",
      "model_module_version": "2.0.0",
      "model_name": "LayoutModel",
      "state": {
       "flex": "2"
      }
     },
     "63429685c31d4d9db2b68eabb94d0b80": {
      "model_module": "@jupyter-widgets/base",
      "model_module_version": "2.0.0",
      "model_name": "LayoutModel",
      "state": {
       "flex": "2"
      }
     },
     "6348c868ca8a4bb295254ad5c37c8e75": {
      "model_module": "@jupyter-widgets/controls",
      "model_module_version": "2.0.0",
      "model_name": "HTMLModel",
      "state": {
       "layout": "IPY_MODEL_3616cab5dd0b4271ba355367b4f0a1e6",
       "style": "IPY_MODEL_6ca7ba1e9fc04c8a8981a133697daac8",
       "value": " 1407/1407 [00:36&lt;00:00, 38.12it/s, v_num=0]"
      }
     },
     "63ec54052bb74c91b2f934aab013a8a1": {
      "model_module": "@jupyter-widgets/controls",
      "model_module_version": "2.0.0",
      "model_name": "HTMLStyleModel",
      "state": {
       "description_width": "",
       "font_size": null,
       "text_color": null
      }
     },
     "63fb319a248940b3ac71a1294079518d": {
      "model_module": "@jupyter-widgets/controls",
      "model_module_version": "2.0.0",
      "model_name": "FloatProgressModel",
      "state": {
       "layout": "IPY_MODEL_a2fd926db41f432b9dbf4262af1c4a7c",
       "max": 157,
       "style": "IPY_MODEL_5b1260527eba4e85abfa456c307f8543",
       "value": 157
      }
     },
     "6401d6d050a24f3e8a84ddce6d35788e": {
      "model_module": "@jupyter-widgets/controls",
      "model_module_version": "2.0.0",
      "model_name": "HTMLModel",
      "state": {
       "layout": "IPY_MODEL_e284fcbdf6474187b62bb8f82d4e6fe9",
       "style": "IPY_MODEL_78ee27b74545444cb3739343b25dc575",
       "value": " 157/157 [00:03&lt;00:00, 39.25it/s]"
      }
     },
     "64519b27a600420cbda908fb60c8f851": {
      "model_module": "@jupyter-widgets/controls",
      "model_module_version": "2.0.0",
      "model_name": "FloatProgressModel",
      "state": {
       "layout": "IPY_MODEL_3120183b9140415b9d91dfd409030648",
       "max": 157,
       "style": "IPY_MODEL_fe38771510b346b492ff12641a2b177e",
       "value": 157
      }
     },
     "647cc57949de403ab22e233f79b83f75": {
      "model_module": "@jupyter-widgets/controls",
      "model_module_version": "2.0.0",
      "model_name": "HTMLModel",
      "state": {
       "layout": "IPY_MODEL_b6c8670631cb4d27a105748166757123",
       "style": "IPY_MODEL_2f496cf7c3e34da6b62f7e7eae0ef0cf",
       "value": " 157/157 [00:03&lt;00:00, 50.07it/s]"
      }
     },
     "647f8dcd9c46482688998bbafc0957d2": {
      "model_module": "@jupyter-widgets/base",
      "model_module_version": "2.0.0",
      "model_name": "LayoutModel",
      "state": {
       "flex": "2"
      }
     },
     "65a19b7a313d4a0ca936d260ff2ffddc": {
      "model_module": "@jupyter-widgets/controls",
      "model_module_version": "2.0.0",
      "model_name": "ProgressStyleModel",
      "state": {
       "description_width": ""
      }
     },
     "66484781e31845c1997ac4b72cf87491": {
      "model_module": "@jupyter-widgets/base",
      "model_module_version": "2.0.0",
      "model_name": "LayoutModel",
      "state": {}
     },
     "66699d4c202a4d189cf4a489d83710b0": {
      "model_module": "@jupyter-widgets/controls",
      "model_module_version": "2.0.0",
      "model_name": "HTMLStyleModel",
      "state": {
       "description_width": "",
       "font_size": null,
       "text_color": null
      }
     },
     "66ad9d8a1d92427f8478558f5e73e0db": {
      "model_module": "@jupyter-widgets/controls",
      "model_module_version": "2.0.0",
      "model_name": "HTMLModel",
      "state": {
       "layout": "IPY_MODEL_8cba9bf825fd4359b8ea0f25d778ac70",
       "style": "IPY_MODEL_d0033e5756f946a5bfaff70e22d476b4",
       "value": "Sanity Checking DataLoader 0: 100%"
      }
     },
     "671a3551cfb34c02ae64c0a94a4e03e5": {
      "model_module": "@jupyter-widgets/controls",
      "model_module_version": "2.0.0",
      "model_name": "FloatProgressModel",
      "state": {
       "layout": "IPY_MODEL_1757f195c7e440f59725ae3353a2d978",
       "max": 157,
       "style": "IPY_MODEL_0817e05b999e42da8c7ed69a3e73a784",
       "value": 157
      }
     },
     "67603c5af4774f2baa2ba1ccf6536c08": {
      "model_module": "@jupyter-widgets/base",
      "model_module_version": "2.0.0",
      "model_name": "LayoutModel",
      "state": {
       "flex": "2"
      }
     },
     "67f484c9ff6e432499be0de006241356": {
      "model_module": "@jupyter-widgets/controls",
      "model_module_version": "2.0.0",
      "model_name": "ProgressStyleModel",
      "state": {
       "description_width": ""
      }
     },
     "67fd0f616aca4f2cb1830a9716bd7f7b": {
      "model_module": "@jupyter-widgets/base",
      "model_module_version": "2.0.0",
      "model_name": "LayoutModel",
      "state": {
       "flex": "2"
      }
     },
     "68099eb635bc47c5bcdcf703ff455dad": {
      "model_module": "@jupyter-widgets/controls",
      "model_module_version": "2.0.0",
      "model_name": "HTMLStyleModel",
      "state": {
       "description_width": "",
       "font_size": null,
       "text_color": null
      }
     },
     "68dce05352644c20abfe2c6285204555": {
      "model_module": "@jupyter-widgets/base",
      "model_module_version": "2.0.0",
      "model_name": "LayoutModel",
      "state": {}
     },
     "6a571c459aff4d9caf54d3626e5686e6": {
      "model_module": "@jupyter-widgets/base",
      "model_module_version": "2.0.0",
      "model_name": "LayoutModel",
      "state": {
       "flex": "2"
      }
     },
     "6c3f6bbf99bb482f99be6e016843a3d0": {
      "model_module": "@jupyter-widgets/base",
      "model_module_version": "2.0.0",
      "model_name": "LayoutModel",
      "state": {}
     },
     "6ca7ba1e9fc04c8a8981a133697daac8": {
      "model_module": "@jupyter-widgets/controls",
      "model_module_version": "2.0.0",
      "model_name": "HTMLStyleModel",
      "state": {
       "description_width": "",
       "font_size": null,
       "text_color": null
      }
     },
     "6cbc0478cad54fb6b309a65e461010dd": {
      "model_module": "@jupyter-widgets/controls",
      "model_module_version": "2.0.0",
      "model_name": "FloatProgressModel",
      "state": {
       "layout": "IPY_MODEL_f177a184b2834ff5a729bfe6956dcd63",
       "max": 157,
       "style": "IPY_MODEL_7543afd1301945a69107807f6248354f",
       "value": 157
      }
     },
     "6cbc295ea4e54ba099de0ac0f4b3447e": {
      "model_module": "@jupyter-widgets/base",
      "model_module_version": "2.0.0",
      "model_name": "LayoutModel",
      "state": {}
     },
     "6cedc59ec4c542b283e3c3345cfc60d0": {
      "model_module": "@jupyter-widgets/controls",
      "model_module_version": "2.0.0",
      "model_name": "HTMLStyleModel",
      "state": {
       "description_width": "",
       "font_size": null,
       "text_color": null
      }
     },
     "6d76c080e5324e2493299e244fe4ab09": {
      "model_module": "@jupyter-widgets/base",
      "model_module_version": "2.0.0",
      "model_name": "LayoutModel",
      "state": {}
     },
     "6dcc499b159a449183e71c700e399f0b": {
      "model_module": "@jupyter-widgets/base",
      "model_module_version": "2.0.0",
      "model_name": "LayoutModel",
      "state": {
       "flex": "2"
      }
     },
     "6f0870fab00c40fcb8c9b49e49b988b4": {
      "model_module": "@jupyter-widgets/base",
      "model_module_version": "2.0.0",
      "model_name": "LayoutModel",
      "state": {}
     },
     "6f64deaf90ac4cdfb6f4d7024977a0ff": {
      "model_module": "@jupyter-widgets/controls",
      "model_module_version": "2.0.0",
      "model_name": "HTMLStyleModel",
      "state": {
       "description_width": "",
       "font_size": null,
       "text_color": null
      }
     },
     "7048431c35f44fdeb92dc36a37113054": {
      "model_module": "@jupyter-widgets/base",
      "model_module_version": "2.0.0",
      "model_name": "LayoutModel",
      "state": {
       "display": "inline-flex",
       "flex_flow": "row wrap",
       "visibility": "hidden",
       "width": "100%"
      }
     },
     "715fd301d2fe4b939e86d5670a5f1a69": {
      "model_module": "@jupyter-widgets/controls",
      "model_module_version": "2.0.0",
      "model_name": "ProgressStyleModel",
      "state": {
       "description_width": ""
      }
     },
     "71753fc123ad435198beb1a2076f336a": {
      "model_module": "@jupyter-widgets/base",
      "model_module_version": "2.0.0",
      "model_name": "LayoutModel",
      "state": {
       "flex": "2"
      }
     },
     "72fd46070acd4f1982576593cd7021b3": {
      "model_module": "@jupyter-widgets/controls",
      "model_module_version": "2.0.0",
      "model_name": "FloatProgressModel",
      "state": {
       "layout": "IPY_MODEL_67fd0f616aca4f2cb1830a9716bd7f7b",
       "max": 157,
       "style": "IPY_MODEL_d4a971fbefb247c5beecb1807d5ef97b",
       "value": 157
      }
     },
     "7371ac40a3134adcb18157bab476de5c": {
      "model_module": "@jupyter-widgets/controls",
      "model_module_version": "2.0.0",
      "model_name": "HTMLStyleModel",
      "state": {
       "description_width": "",
       "font_size": null,
       "text_color": null
      }
     },
     "7413702c90f243158bcdc0b7caa209f2": {
      "model_module": "@jupyter-widgets/controls",
      "model_module_version": "2.0.0",
      "model_name": "HBoxModel",
      "state": {
       "children": [
        "IPY_MODEL_bf5e563c64724b70b11de89a29476bfd",
        "IPY_MODEL_07986ce39d9043d584af1a233d764d4e",
        "IPY_MODEL_6348c868ca8a4bb295254ad5c37c8e75"
       ],
       "layout": "IPY_MODEL_78a597c90e124b24b031798e350fea4c"
      }
     },
     "742df1ae2429469d85bafe189747c407": {
      "model_module": "@jupyter-widgets/base",
      "model_module_version": "2.0.0",
      "model_name": "LayoutModel",
      "state": {}
     },
     "74bdd76c819f43d09dc448b6ac3a171f": {
      "model_module": "@jupyter-widgets/controls",
      "model_module_version": "2.0.0",
      "model_name": "FloatProgressModel",
      "state": {
       "layout": "IPY_MODEL_67603c5af4774f2baa2ba1ccf6536c08",
       "max": 157,
       "style": "IPY_MODEL_b1cf39e966554f19827d91dbbad3ab08",
       "value": 157
      }
     },
     "75324bf84ce642bd90a071bee4a93f6d": {
      "model_module": "@jupyter-widgets/base",
      "model_module_version": "2.0.0",
      "model_name": "LayoutModel",
      "state": {
       "flex": "2"
      }
     },
     "7543afd1301945a69107807f6248354f": {
      "model_module": "@jupyter-widgets/controls",
      "model_module_version": "2.0.0",
      "model_name": "ProgressStyleModel",
      "state": {
       "description_width": ""
      }
     },
     "776cfd6678e24a2bb1034a02a91a8651": {
      "model_module": "@jupyter-widgets/base",
      "model_module_version": "2.0.0",
      "model_name": "LayoutModel",
      "state": {}
     },
     "783fcb3ec36a4086ac0c77f86010f756": {
      "model_module": "@jupyter-widgets/controls",
      "model_module_version": "2.0.0",
      "model_name": "HTMLStyleModel",
      "state": {
       "description_width": "",
       "font_size": null,
       "text_color": null
      }
     },
     "78a597c90e124b24b031798e350fea4c": {
      "model_module": "@jupyter-widgets/base",
      "model_module_version": "2.0.0",
      "model_name": "LayoutModel",
      "state": {
       "display": "inline-flex",
       "flex_flow": "row wrap",
       "width": "100%"
      }
     },
     "78ee27b74545444cb3739343b25dc575": {
      "model_module": "@jupyter-widgets/controls",
      "model_module_version": "2.0.0",
      "model_name": "HTMLStyleModel",
      "state": {
       "description_width": "",
       "font_size": null,
       "text_color": null
      }
     },
     "794a34b9793547fe83041bca2a1b4e17": {
      "model_module": "@jupyter-widgets/base",
      "model_module_version": "2.0.0",
      "model_name": "LayoutModel",
      "state": {
       "display": "inline-flex",
       "flex_flow": "row wrap",
       "visibility": "hidden",
       "width": "100%"
      }
     },
     "79c63ed767214d528ae82e585c4e0838": {
      "model_module": "@jupyter-widgets/controls",
      "model_module_version": "2.0.0",
      "model_name": "FloatProgressModel",
      "state": {
       "layout": "IPY_MODEL_cdf16195a74642cdb0bd0f23d763e61e",
       "max": 157,
       "style": "IPY_MODEL_0dd81ba2a55940459fccc950318af7f0",
       "value": 157
      }
     },
     "7b6ce2ef5e3f44f9978c7d16a391fd34": {
      "model_module": "@jupyter-widgets/base",
      "model_module_version": "2.0.0",
      "model_name": "LayoutModel",
      "state": {}
     },
     "7bdc41b9ede24a64b352123c29a5528a": {
      "model_module": "@jupyter-widgets/base",
      "model_module_version": "2.0.0",
      "model_name": "LayoutModel",
      "state": {}
     },
     "7ce0c6f2024a4ef28b8533d8ca9325a7": {
      "model_module": "@jupyter-widgets/controls",
      "model_module_version": "2.0.0",
      "model_name": "HTMLStyleModel",
      "state": {
       "description_width": "",
       "font_size": null,
       "text_color": null
      }
     },
     "7d796a26838347c284775d21dd08710e": {
      "model_module": "@jupyter-widgets/controls",
      "model_module_version": "2.0.0",
      "model_name": "HTMLStyleModel",
      "state": {
       "description_width": "",
       "font_size": null,
       "text_color": null
      }
     },
     "7e7f0450788545919f82ba63877aa371": {
      "model_module": "@jupyter-widgets/base",
      "model_module_version": "2.0.0",
      "model_name": "LayoutModel",
      "state": {
       "display": "inline-flex",
       "flex_flow": "row wrap",
       "visibility": "hidden",
       "width": "100%"
      }
     },
     "7ee14910d6b14e138d236629b31fb15e": {
      "model_module": "@jupyter-widgets/controls",
      "model_module_version": "2.0.0",
      "model_name": "HTMLModel",
      "state": {
       "layout": "IPY_MODEL_ed4aa4d193ab49e4bb499b0550ac4892",
       "style": "IPY_MODEL_6cedc59ec4c542b283e3c3345cfc60d0",
       "value": "Validation DataLoader 0: 100%"
      }
     },
     "7f5889adc2f94275bb6f40b5be814114": {
      "model_module": "@jupyter-widgets/controls",
      "model_module_version": "2.0.0",
      "model_name": "FloatProgressModel",
      "state": {
       "layout": "IPY_MODEL_b0abfa6d1f304558aa875cad2bbafdd0",
       "max": 157,
       "style": "IPY_MODEL_dbd1b2d95b52431797bdc9a1a383fca5",
       "value": 157
      }
     },
     "7f9e113e8e0040fb9eccbdfe34777422": {
      "model_module": "@jupyter-widgets/controls",
      "model_module_version": "2.0.0",
      "model_name": "HTMLModel",
      "state": {
       "layout": "IPY_MODEL_bff6ac25599244fe9998722b7187dc29",
       "style": "IPY_MODEL_225353a557ea4470be7dab09d90cee43",
       "value": " 2/2 [00:00&lt;00:00,  3.16it/s]"
      }
     },
     "804ce1eab33f4edb90957938c7e000c6": {
      "model_module": "@jupyter-widgets/base",
      "model_module_version": "2.0.0",
      "model_name": "LayoutModel",
      "state": {}
     },
     "80b01f88b5744639aa8fef9c8af30ec2": {
      "model_module": "@jupyter-widgets/controls",
      "model_module_version": "2.0.0",
      "model_name": "HTMLModel",
      "state": {
       "layout": "IPY_MODEL_87e7747df9814c8eabdfd2553aa92ca6",
       "style": "IPY_MODEL_291ab032f1844cb4b961e6c286b78aae",
       "value": "Validation DataLoader 0: 100%"
      }
     },
     "80fe23f9867c47e287cc635d1e0a68f3": {
      "model_module": "@jupyter-widgets/base",
      "model_module_version": "2.0.0",
      "model_name": "LayoutModel",
      "state": {}
     },
     "829fb8fccba84124ae2fe65193119f4f": {
      "model_module": "@jupyter-widgets/controls",
      "model_module_version": "2.0.0",
      "model_name": "ProgressStyleModel",
      "state": {
       "description_width": ""
      }
     },
     "82df527d9cfa40a2a799a941b1bf7ae8": {
      "model_module": "@jupyter-widgets/base",
      "model_module_version": "2.0.0",
      "model_name": "LayoutModel",
      "state": {}
     },
     "83b282829ec24bcc9d351bd0e1333fea": {
      "model_module": "@jupyter-widgets/base",
      "model_module_version": "2.0.0",
      "model_name": "LayoutModel",
      "state": {}
     },
     "83ffa8cf9e454d3bb2eedf59c2df5f64": {
      "model_module": "@jupyter-widgets/controls",
      "model_module_version": "2.0.0",
      "model_name": "ProgressStyleModel",
      "state": {
       "description_width": ""
      }
     },
     "8497f14175244524a5e56395d5361d8d": {
      "model_module": "@jupyter-widgets/base",
      "model_module_version": "2.0.0",
      "model_name": "LayoutModel",
      "state": {}
     },
     "8497f667d64146729b5e9895c678e2a0": {
      "model_module": "@jupyter-widgets/controls",
      "model_module_version": "2.0.0",
      "model_name": "HTMLModel",
      "state": {
       "layout": "IPY_MODEL_c9f81ec3f8bf495f937928b99607a30f",
       "style": "IPY_MODEL_9dabd4f3fca6460ab208113c57875028",
       "value": " 157/157 [00:03&lt;00:00, 51.04it/s]"
      }
     },
     "84d36eb9ab954d89a67d70286a26e4ad": {
      "model_module": "@jupyter-widgets/controls",
      "model_module_version": "2.0.0",
      "model_name": "ProgressStyleModel",
      "state": {
       "description_width": ""
      }
     },
     "852fc58f8bfa4785a50f7fd3b07a331e": {
      "model_module": "@jupyter-widgets/controls",
      "model_module_version": "2.0.0",
      "model_name": "HTMLStyleModel",
      "state": {
       "description_width": "",
       "font_size": null,
       "text_color": null
      }
     },
     "857ee1fe73704a5bbb60a88ca8e3f1b2": {
      "model_module": "@jupyter-widgets/base",
      "model_module_version": "2.0.0",
      "model_name": "LayoutModel",
      "state": {
       "flex": "2"
      }
     },
     "85b0940d183444f5b3d252a786d219db": {
      "model_module": "@jupyter-widgets/controls",
      "model_module_version": "2.0.0",
      "model_name": "HTMLModel",
      "state": {
       "layout": "IPY_MODEL_0a12e84a3a98416398de2b9b8a212b0e",
       "style": "IPY_MODEL_68099eb635bc47c5bcdcf703ff455dad",
       "value": "Validation DataLoader 0: 100%"
      }
     },
     "86534268447a4939b63c0a41bd0df768": {
      "model_module": "@jupyter-widgets/base",
      "model_module_version": "2.0.0",
      "model_name": "LayoutModel",
      "state": {
       "display": "inline-flex",
       "flex_flow": "row wrap",
       "visibility": "hidden",
       "width": "100%"
      }
     },
     "867e9189a63f4c57808dbf9f64f4a2bf": {
      "model_module": "@jupyter-widgets/controls",
      "model_module_version": "2.0.0",
      "model_name": "HTMLModel",
      "state": {
       "layout": "IPY_MODEL_ef8a238a180c4131801039edeeac630e",
       "style": "IPY_MODEL_ff1a2f6d104e469f9122144d4b83cafd",
       "value": " 157/157 [00:03&lt;00:00, 46.60it/s]"
      }
     },
     "87179881630b46d1968deb72868265c0": {
      "model_module": "@jupyter-widgets/controls",
      "model_module_version": "2.0.0",
      "model_name": "FloatProgressModel",
      "state": {
       "layout": "IPY_MODEL_593eb72c4ce1468e91bc002fb107234f",
       "max": 157,
       "style": "IPY_MODEL_c0546f73e5e34392ae3c771cbdc75a37",
       "value": 157
      }
     },
     "87d79855929a454f987c050456150602": {
      "model_module": "@jupyter-widgets/controls",
      "model_module_version": "2.0.0",
      "model_name": "HTMLStyleModel",
      "state": {
       "description_width": "",
       "font_size": null,
       "text_color": null
      }
     },
     "87e7747df9814c8eabdfd2553aa92ca6": {
      "model_module": "@jupyter-widgets/base",
      "model_module_version": "2.0.0",
      "model_name": "LayoutModel",
      "state": {}
     },
     "87e83182e11b494bb1f5fade839fb44a": {
      "model_module": "@jupyter-widgets/base",
      "model_module_version": "2.0.0",
      "model_name": "LayoutModel",
      "state": {
       "display": "inline-flex",
       "flex_flow": "row wrap",
       "visibility": "hidden",
       "width": "100%"
      }
     },
     "880f9e6b6b68411aa4d36bcf4e8e9da5": {
      "model_module": "@jupyter-widgets/controls",
      "model_module_version": "2.0.0",
      "model_name": "HTMLModel",
      "state": {
       "layout": "IPY_MODEL_25676a6899934dea8094e0d68860d001",
       "style": "IPY_MODEL_cc5f6d776ee14f71918701c0276292d3",
       "value": " 157/157 [00:03&lt;00:00, 49.69it/s]"
      }
     },
     "8829558f74f944c180179555042ae3bd": {
      "model_module": "@jupyter-widgets/base",
      "model_module_version": "2.0.0",
      "model_name": "LayoutModel",
      "state": {}
     },
     "882fcb319ea24b848394cb995a58cba5": {
      "model_module": "@jupyter-widgets/controls",
      "model_module_version": "2.0.0",
      "model_name": "HTMLStyleModel",
      "state": {
       "description_width": "",
       "font_size": null,
       "text_color": null
      }
     },
     "889f613d7b9c4586bbbb2f76bad12175": {
      "model_module": "@jupyter-widgets/controls",
      "model_module_version": "2.0.0",
      "model_name": "HTMLModel",
      "state": {
       "layout": "IPY_MODEL_043837d8c28141d7b6d4bac88645f048",
       "style": "IPY_MODEL_316fa5fd07f7422cbca2895b3c820c31",
       "value": " 2/2 [00:00&lt;00:00, 23.47it/s]"
      }
     },
     "8a16647d88a449b3b945cce4e1edcf09": {
      "model_module": "@jupyter-widgets/controls",
      "model_module_version": "2.0.0",
      "model_name": "HTMLModel",
      "state": {
       "layout": "IPY_MODEL_6cbc295ea4e54ba099de0ac0f4b3447e",
       "style": "IPY_MODEL_c2eca23570014211ae4fc683071fd349",
       "value": " 157/157 [00:03&lt;00:00, 39.25it/s]"
      }
     },
     "8a88f47765c345f099403a1c76c33c25": {
      "model_module": "@jupyter-widgets/controls",
      "model_module_version": "2.0.0",
      "model_name": "FloatProgressModel",
      "state": {
       "layout": "IPY_MODEL_2e622727fab9448e9069dc2d1163c8c4",
       "max": 157,
       "style": "IPY_MODEL_1c60cec8681c4529b6dc275cdd4608fe",
       "value": 157
      }
     },
     "8aa99bb60151491cb6e76be5083a51ea": {
      "model_module": "@jupyter-widgets/base",
      "model_module_version": "2.0.0",
      "model_name": "LayoutModel",
      "state": {
       "display": "inline-flex",
       "flex_flow": "row wrap",
       "width": "100%"
      }
     },
     "8acfe742b7c14a24810a606b38c983d4": {
      "model_module": "@jupyter-widgets/controls",
      "model_module_version": "2.0.0",
      "model_name": "ProgressStyleModel",
      "state": {
       "description_width": ""
      }
     },
     "8cba9bf825fd4359b8ea0f25d778ac70": {
      "model_module": "@jupyter-widgets/base",
      "model_module_version": "2.0.0",
      "model_name": "LayoutModel",
      "state": {}
     },
     "8d13a7f7baca4bbbab0ea812a1b04388": {
      "model_module": "@jupyter-widgets/base",
      "model_module_version": "2.0.0",
      "model_name": "LayoutModel",
      "state": {}
     },
     "8df697b843f54de494b502604f4e2cb6": {
      "model_module": "@jupyter-widgets/controls",
      "model_module_version": "2.0.0",
      "model_name": "HTMLStyleModel",
      "state": {
       "description_width": "",
       "font_size": null,
       "text_color": null
      }
     },
     "8e7a9c34f2534e2798c223f2849ad447": {
      "model_module": "@jupyter-widgets/controls",
      "model_module_version": "2.0.0",
      "model_name": "HTMLStyleModel",
      "state": {
       "description_width": "",
       "font_size": null,
       "text_color": null
      }
     },
     "8f3464576a7343a2931382f7962570dc": {
      "model_module": "@jupyter-widgets/controls",
      "model_module_version": "2.0.0",
      "model_name": "HTMLModel",
      "state": {
       "layout": "IPY_MODEL_0b050f75feeb48e1838f388800586396",
       "style": "IPY_MODEL_c4739ab3d85f4b72aa7fc752e3350316",
       "value": "Validation DataLoader 0: 100%"
      }
     },
     "90940fe0a0214b9cbf82ebd149d033c5": {
      "model_module": "@jupyter-widgets/controls",
      "model_module_version": "2.0.0",
      "model_name": "FloatProgressModel",
      "state": {
       "layout": "IPY_MODEL_5c83b37a3e6a46eabe38a2cf7dfdbdd3",
       "max": 157,
       "style": "IPY_MODEL_111206b55d4d45bdbd11fc887d1d16a8",
       "value": 157
      }
     },
     "918023f5d1cd41928d109ff22f560ac7": {
      "model_module": "@jupyter-widgets/controls",
      "model_module_version": "2.0.0",
      "model_name": "HTMLModel",
      "state": {
       "layout": "IPY_MODEL_ad0d06fabce64b8fa9b9834303eb5dd5",
       "style": "IPY_MODEL_c88551c92edf42f7b772254307ba45e7",
       "value": "Validation DataLoader 0: 100%"
      }
     },
     "918fff411ca94a79a097c30e4ca56161": {
      "model_module": "@jupyter-widgets/controls",
      "model_module_version": "2.0.0",
      "model_name": "HTMLModel",
      "state": {
       "layout": "IPY_MODEL_3b5283ebea634d3185719edf2b0c6b1f",
       "style": "IPY_MODEL_d9cbc7e6d9e047f1b0e3ffac2b2ce2e8",
       "value": " 157/157 [00:03&lt;00:00, 51.20it/s]"
      }
     },
     "92717c3d31304faa836fe5c511bf6f83": {
      "model_module": "@jupyter-widgets/controls",
      "model_module_version": "2.0.0",
      "model_name": "FloatProgressModel",
      "state": {
       "layout": "IPY_MODEL_62fee51080f44c71a86c81898ff36793",
       "max": 157,
       "style": "IPY_MODEL_084060fc724c468b87ab01d8eecca228",
       "value": 157
      }
     },
     "92e14e55c80448af98cbc409cc2278ca": {
      "model_module": "@jupyter-widgets/base",
      "model_module_version": "2.0.0",
      "model_name": "LayoutModel",
      "state": {}
     },
     "935226ec99a04466940b699e6abe67aa": {
      "model_module": "@jupyter-widgets/controls",
      "model_module_version": "2.0.0",
      "model_name": "FloatProgressModel",
      "state": {
       "layout": "IPY_MODEL_22b799a7cfad41acada7c0bb67b231fb",
       "max": 2,
       "style": "IPY_MODEL_f4aa82327bdc4e53aba88601374cc49b",
       "value": 2
      }
     },
     "9384a3be2f70491186aa2c16757ab2cb": {
      "model_module": "@jupyter-widgets/controls",
      "model_module_version": "2.0.0",
      "model_name": "HTMLStyleModel",
      "state": {
       "description_width": "",
       "font_size": null,
       "text_color": null
      }
     },
     "93ccb6d38fa24261a525d7ddc98621d3": {
      "model_module": "@jupyter-widgets/controls",
      "model_module_version": "2.0.0",
      "model_name": "HTMLModel",
      "state": {
       "layout": "IPY_MODEL_41a3866b70f44b6184c60c46ffbfae3d",
       "style": "IPY_MODEL_4c810ee7952546628b6541ec0709f446",
       "value": " 157/157 [00:04&lt;00:00, 39.22it/s]"
      }
     },
     "93eb47a9872246718efbb7f1193b7ce4": {
      "model_module": "@jupyter-widgets/base",
      "model_module_version": "2.0.0",
      "model_name": "LayoutModel",
      "state": {
       "flex": "2"
      }
     },
     "9441e164e27644288fcfbab1775052bd": {
      "model_module": "@jupyter-widgets/base",
      "model_module_version": "2.0.0",
      "model_name": "LayoutModel",
      "state": {
       "display": "inline-flex",
       "flex_flow": "row wrap",
       "visibility": "hidden",
       "width": "100%"
      }
     },
     "94de68fb6d87454c94e0741d471d6c3d": {
      "model_module": "@jupyter-widgets/controls",
      "model_module_version": "2.0.0",
      "model_name": "HTMLStyleModel",
      "state": {
       "description_width": "",
       "font_size": null,
       "text_color": null
      }
     },
     "95b46deae6024b5fa04430cadfe1ae09": {
      "model_module": "@jupyter-widgets/base",
      "model_module_version": "2.0.0",
      "model_name": "LayoutModel",
      "state": {}
     },
     "96514c8ab6fe482f813cf02853cc626a": {
      "model_module": "@jupyter-widgets/controls",
      "model_module_version": "2.0.0",
      "model_name": "HTMLModel",
      "state": {
       "layout": "IPY_MODEL_be0229261fb847cca52a0357fa4657ce",
       "style": "IPY_MODEL_0bc2a61f9a454367894fc69cb5dbf2d8",
       "value": "Validation DataLoader 0: 100%"
      }
     },
     "96ba2f6c91844d5ea467db2880fb7c33": {
      "model_module": "@jupyter-widgets/base",
      "model_module_version": "2.0.0",
      "model_name": "LayoutModel",
      "state": {
       "display": "inline-flex",
       "flex_flow": "row wrap",
       "visibility": "hidden",
       "width": "100%"
      }
     },
     "97311482f8e4477f80e92f2e282082da": {
      "model_module": "@jupyter-widgets/base",
      "model_module_version": "2.0.0",
      "model_name": "LayoutModel",
      "state": {}
     },
     "98de6ceae92547c78c72c6b5ab4d1db0": {
      "model_module": "@jupyter-widgets/base",
      "model_module_version": "2.0.0",
      "model_name": "LayoutModel",
      "state": {
       "display": "inline-flex",
       "flex_flow": "row wrap",
       "visibility": "hidden",
       "width": "100%"
      }
     },
     "9924300f1d65425fb3f781f67555e3f8": {
      "model_module": "@jupyter-widgets/controls",
      "model_module_version": "2.0.0",
      "model_name": "HTMLModel",
      "state": {
       "layout": "IPY_MODEL_f08e103d342d475fb271a44ec670ad48",
       "style": "IPY_MODEL_c8cc3cda31914fd0affb03c9c71aa137",
       "value": " 157/157 [00:03&lt;00:00, 44.40it/s]"
      }
     },
     "99df210ee9564d438b89b4835457ed09": {
      "model_module": "@jupyter-widgets/base",
      "model_module_version": "2.0.0",
      "model_name": "LayoutModel",
      "state": {
       "display": "inline-flex",
       "flex_flow": "row wrap",
       "visibility": "hidden",
       "width": "100%"
      }
     },
     "9a4619cb30d34ffe87407e3865a91289": {
      "model_module": "@jupyter-widgets/base",
      "model_module_version": "2.0.0",
      "model_name": "LayoutModel",
      "state": {}
     },
     "9a53930bf0ce44c2a3eaa1f00bc94b24": {
      "model_module": "@jupyter-widgets/controls",
      "model_module_version": "2.0.0",
      "model_name": "ProgressStyleModel",
      "state": {
       "description_width": ""
      }
     },
     "9ada41848f324912a01994fb585352c7": {
      "model_module": "@jupyter-widgets/base",
      "model_module_version": "2.0.0",
      "model_name": "LayoutModel",
      "state": {
       "display": "inline-flex",
       "flex_flow": "row wrap",
       "visibility": "hidden",
       "width": "100%"
      }
     },
     "9b5f9b76f62947f39773afe634e58014": {
      "model_module": "@jupyter-widgets/base",
      "model_module_version": "2.0.0",
      "model_name": "LayoutModel",
      "state": {
       "display": "inline-flex",
       "flex_flow": "row wrap",
       "visibility": "hidden",
       "width": "100%"
      }
     },
     "9d1a5bdb5f424dda88a28ab3eddce526": {
      "model_module": "@jupyter-widgets/base",
      "model_module_version": "2.0.0",
      "model_name": "LayoutModel",
      "state": {
       "display": "inline-flex",
       "flex_flow": "row wrap",
       "visibility": "hidden",
       "width": "100%"
      }
     },
     "9d824ada7c9b4c6582bc3eb87b248177": {
      "model_module": "@jupyter-widgets/controls",
      "model_module_version": "2.0.0",
      "model_name": "FloatProgressModel",
      "state": {
       "layout": "IPY_MODEL_63429685c31d4d9db2b68eabb94d0b80",
       "max": 157,
       "style": "IPY_MODEL_a281b4b69ecd466e86dbdc60e4b3293d",
       "value": 157
      }
     },
     "9dabd4f3fca6460ab208113c57875028": {
      "model_module": "@jupyter-widgets/controls",
      "model_module_version": "2.0.0",
      "model_name": "HTMLStyleModel",
      "state": {
       "description_width": "",
       "font_size": null,
       "text_color": null
      }
     },
     "9de022360963410aac4e7933af5af57d": {
      "model_module": "@jupyter-widgets/base",
      "model_module_version": "2.0.0",
      "model_name": "LayoutModel",
      "state": {}
     },
     "a005515091b84d1bae35b61606da0940": {
      "model_module": "@jupyter-widgets/base",
      "model_module_version": "2.0.0",
      "model_name": "LayoutModel",
      "state": {
       "display": "inline-flex",
       "flex_flow": "row wrap",
       "visibility": "hidden",
       "width": "100%"
      }
     },
     "a019b0d1b47d4ebea78f598a143a02ce": {
      "model_module": "@jupyter-widgets/base",
      "model_module_version": "2.0.0",
      "model_name": "LayoutModel",
      "state": {}
     },
     "a18ad516347d46f08f43ae89e6c35f1c": {
      "model_module": "@jupyter-widgets/controls",
      "model_module_version": "2.0.0",
      "model_name": "HTMLStyleModel",
      "state": {
       "description_width": "",
       "font_size": null,
       "text_color": null
      }
     },
     "a281b4b69ecd466e86dbdc60e4b3293d": {
      "model_module": "@jupyter-widgets/controls",
      "model_module_version": "2.0.0",
      "model_name": "ProgressStyleModel",
      "state": {
       "description_width": ""
      }
     },
     "a2fd926db41f432b9dbf4262af1c4a7c": {
      "model_module": "@jupyter-widgets/base",
      "model_module_version": "2.0.0",
      "model_name": "LayoutModel",
      "state": {
       "flex": "2"
      }
     },
     "a320eed06ed34e31875ca826c3aafe0d": {
      "model_module": "@jupyter-widgets/controls",
      "model_module_version": "2.0.0",
      "model_name": "ProgressStyleModel",
      "state": {
       "description_width": ""
      }
     },
     "a35f0fc26b6347a39e00f86a17a2a69d": {
      "model_module": "@jupyter-widgets/controls",
      "model_module_version": "2.0.0",
      "model_name": "HTMLStyleModel",
      "state": {
       "description_width": "",
       "font_size": null,
       "text_color": null
      }
     },
     "a3bc58d7635b4fd6b8f699354e9a6fed": {
      "model_module": "@jupyter-widgets/base",
      "model_module_version": "2.0.0",
      "model_name": "LayoutModel",
      "state": {}
     },
     "a4040a7963e949538dbc086663ae30c8": {
      "model_module": "@jupyter-widgets/base",
      "model_module_version": "2.0.0",
      "model_name": "LayoutModel",
      "state": {}
     },
     "a40f7855df9c4987b2557c7b38175b2a": {
      "model_module": "@jupyter-widgets/base",
      "model_module_version": "2.0.0",
      "model_name": "LayoutModel",
      "state": {}
     },
     "a51f0260b82843dfb5345c03b714a5dd": {
      "model_module": "@jupyter-widgets/controls",
      "model_module_version": "2.0.0",
      "model_name": "HTMLStyleModel",
      "state": {
       "description_width": "",
       "font_size": null,
       "text_color": null
      }
     },
     "a57f1c4a0d1b426294e428fb0c1a57b3": {
      "model_module": "@jupyter-widgets/base",
      "model_module_version": "2.0.0",
      "model_name": "LayoutModel",
      "state": {
       "flex": "2"
      }
     },
     "a6870eb8b881451e93d19ebb8c2f0bb7": {
      "model_module": "@jupyter-widgets/controls",
      "model_module_version": "2.0.0",
      "model_name": "ProgressStyleModel",
      "state": {
       "description_width": ""
      }
     },
     "a8582d2b278840b98fea5c665d5de406": {
      "model_module": "@jupyter-widgets/controls",
      "model_module_version": "2.0.0",
      "model_name": "HTMLStyleModel",
      "state": {
       "description_width": "",
       "font_size": null,
       "text_color": null
      }
     },
     "a9707d2929c04c1980b500c8de017939": {
      "model_module": "@jupyter-widgets/controls",
      "model_module_version": "2.0.0",
      "model_name": "HTMLModel",
      "state": {
       "layout": "IPY_MODEL_4c2179f145b54253bed4693ff0ec1e0a",
       "style": "IPY_MODEL_ef706ccdf931432e8b15da22e09fd56e",
       "value": "Validation DataLoader 0: 100%"
      }
     },
     "aa2747778186495eadb8e145f5aa31b8": {
      "model_module": "@jupyter-widgets/base",
      "model_module_version": "2.0.0",
      "model_name": "LayoutModel",
      "state": {}
     },
     "aa863eef08cd4fefb02a409d66880250": {
      "model_module": "@jupyter-widgets/controls",
      "model_module_version": "2.0.0",
      "model_name": "HTMLStyleModel",
      "state": {
       "description_width": "",
       "font_size": null,
       "text_color": null
      }
     },
     "aaa69cd9d77547d09923195b76e0e75b": {
      "model_module": "@jupyter-widgets/base",
      "model_module_version": "2.0.0",
      "model_name": "LayoutModel",
      "state": {
       "flex": "2"
      }
     },
     "aabc05cfde7a4acf8f946f3f01d4a35a": {
      "model_module": "@jupyter-widgets/controls",
      "model_module_version": "2.0.0",
      "model_name": "HTMLStyleModel",
      "state": {
       "description_width": "",
       "font_size": null,
       "text_color": null
      }
     },
     "aac016f09e5a4cb980fd0a41113555cb": {
      "model_module": "@jupyter-widgets/controls",
      "model_module_version": "2.0.0",
      "model_name": "HTMLModel",
      "state": {
       "layout": "IPY_MODEL_a3bc58d7635b4fd6b8f699354e9a6fed",
       "style": "IPY_MODEL_2a25fe5ecabc4c8ea04b4ae3844381b4",
       "value": " 157/157 [00:03&lt;00:00, 44.22it/s]"
      }
     },
     "ac1f0dc0141c42238501827f3170c3f4": {
      "model_module": "@jupyter-widgets/base",
      "model_module_version": "2.0.0",
      "model_name": "LayoutModel",
      "state": {
       "flex": "2"
      }
     },
     "ac95588adf524fab86c054378088ec2f": {
      "model_module": "@jupyter-widgets/controls",
      "model_module_version": "2.0.0",
      "model_name": "HTMLStyleModel",
      "state": {
       "description_width": "",
       "font_size": null,
       "text_color": null
      }
     },
     "ad0d06fabce64b8fa9b9834303eb5dd5": {
      "model_module": "@jupyter-widgets/base",
      "model_module_version": "2.0.0",
      "model_name": "LayoutModel",
      "state": {}
     },
     "ad24eba0cb0d4d61956f79025fb399ef": {
      "model_module": "@jupyter-widgets/controls",
      "model_module_version": "2.0.0",
      "model_name": "HTMLModel",
      "state": {
       "layout": "IPY_MODEL_5e62b76463c74e3b9798f07a1402d039",
       "style": "IPY_MODEL_7371ac40a3134adcb18157bab476de5c",
       "value": " 157/157 [00:03&lt;00:00, 43.97it/s]"
      }
     },
     "ad61371fe4554f2f8b4b033014aaf6be": {
      "model_module": "@jupyter-widgets/controls",
      "model_module_version": "2.0.0",
      "model_name": "HTMLModel",
      "state": {
       "layout": "IPY_MODEL_742df1ae2429469d85bafe189747c407",
       "style": "IPY_MODEL_2dfa91b6147247af9ea682763a945e12",
       "value": "Validation DataLoader 0: 100%"
      }
     },
     "aebb7efe131442c0af4a9bbea7053103": {
      "model_module": "@jupyter-widgets/base",
      "model_module_version": "2.0.0",
      "model_name": "LayoutModel",
      "state": {
       "flex": "2"
      }
     },
     "af89feeff4c34957892f49668736ba69": {
      "model_module": "@jupyter-widgets/base",
      "model_module_version": "2.0.0",
      "model_name": "LayoutModel",
      "state": {
       "display": "inline-flex",
       "flex_flow": "row wrap",
       "visibility": "hidden",
       "width": "100%"
      }
     },
     "afa0cb3f1f61484ca4a3cc8a51160783": {
      "model_module": "@jupyter-widgets/controls",
      "model_module_version": "2.0.0",
      "model_name": "HTMLModel",
      "state": {
       "layout": "IPY_MODEL_6f0870fab00c40fcb8c9b49e49b988b4",
       "style": "IPY_MODEL_3bec9c9845c746a9a191d9c372b94539",
       "value": "Sanity Checking DataLoader 0: 100%"
      }
     },
     "b0abfa6d1f304558aa875cad2bbafdd0": {
      "model_module": "@jupyter-widgets/base",
      "model_module_version": "2.0.0",
      "model_name": "LayoutModel",
      "state": {
       "flex": "2"
      }
     },
     "b0deed77f2de436ab63ef7c4df7a7f2a": {
      "model_module": "@jupyter-widgets/controls",
      "model_module_version": "2.0.0",
      "model_name": "ProgressStyleModel",
      "state": {
       "description_width": ""
      }
     },
     "b10cb71708da4c65ad332607fb137c81": {
      "model_module": "@jupyter-widgets/base",
      "model_module_version": "2.0.0",
      "model_name": "LayoutModel",
      "state": {}
     },
     "b132aa1d284e43cb9226e267428bf06f": {
      "model_module": "@jupyter-widgets/controls",
      "model_module_version": "2.0.0",
      "model_name": "HTMLStyleModel",
      "state": {
       "description_width": "",
       "font_size": null,
       "text_color": null
      }
     },
     "b169d57adb234c43ac6ca55df6076a6a": {
      "model_module": "@jupyter-widgets/controls",
      "model_module_version": "2.0.0",
      "model_name": "HTMLModel",
      "state": {
       "layout": "IPY_MODEL_c3e563ef620d44e8828e686a0db877e2",
       "style": "IPY_MODEL_3e393fe00db045158ba5ea8a1a8f3c48",
       "value": " 157/157 [00:03&lt;00:00, 44.02it/s]"
      }
     },
     "b16cdea5729f4c7aaf4a4f59bd740b2c": {
      "model_module": "@jupyter-widgets/controls",
      "model_module_version": "2.0.0",
      "model_name": "HTMLModel",
      "state": {
       "layout": "IPY_MODEL_c5ebd2f6c70e47c5b5d808da36ef506a",
       "style": "IPY_MODEL_3136d919b48844e8aed6f7179060a1c0",
       "value": "Validation DataLoader 0: 100%"
      }
     },
     "b1cf39e966554f19827d91dbbad3ab08": {
      "model_module": "@jupyter-widgets/controls",
      "model_module_version": "2.0.0",
      "model_name": "ProgressStyleModel",
      "state": {
       "description_width": ""
      }
     },
     "b4527cbf50024b55aeec745a77bb23b7": {
      "model_module": "@jupyter-widgets/controls",
      "model_module_version": "2.0.0",
      "model_name": "FloatProgressModel",
      "state": {
       "layout": "IPY_MODEL_fa05177c9be9429eae5c028b9df61a2b",
       "max": 157,
       "style": "IPY_MODEL_715fd301d2fe4b939e86d5670a5f1a69",
       "value": 157
      }
     },
     "b480bc0784484171bc7f0e41adb390b1": {
      "model_module": "@jupyter-widgets/controls",
      "model_module_version": "2.0.0",
      "model_name": "HTMLStyleModel",
      "state": {
       "description_width": "",
       "font_size": null,
       "text_color": null
      }
     },
     "b4b34fcefeb147b4bc0ea3d6396b234d": {
      "model_module": "@jupyter-widgets/base",
      "model_module_version": "2.0.0",
      "model_name": "LayoutModel",
      "state": {}
     },
     "b4f034a3d01d4be5990941b35a6edeb0": {
      "model_module": "@jupyter-widgets/controls",
      "model_module_version": "2.0.0",
      "model_name": "HTMLStyleModel",
      "state": {
       "description_width": "",
       "font_size": null,
       "text_color": null
      }
     },
     "b52266d5eb3f4753b48d218853343b74": {
      "model_module": "@jupyter-widgets/controls",
      "model_module_version": "2.0.0",
      "model_name": "FloatProgressModel",
      "state": {
       "layout": "IPY_MODEL_ac1f0dc0141c42238501827f3170c3f4",
       "max": 157,
       "style": "IPY_MODEL_b0deed77f2de436ab63ef7c4df7a7f2a",
       "value": 157
      }
     },
     "b589948fccb04c70abd8d9575a1953f9": {
      "model_module": "@jupyter-widgets/controls",
      "model_module_version": "2.0.0",
      "model_name": "FloatProgressModel",
      "state": {
       "layout": "IPY_MODEL_aebb7efe131442c0af4a9bbea7053103",
       "max": 157,
       "style": "IPY_MODEL_d4555cdebbb040958dc03de0ec671168",
       "value": 157
      }
     },
     "b6c8670631cb4d27a105748166757123": {
      "model_module": "@jupyter-widgets/base",
      "model_module_version": "2.0.0",
      "model_name": "LayoutModel",
      "state": {}
     },
     "b757e3935c6c4a82a0d9831453910fb0": {
      "model_module": "@jupyter-widgets/controls",
      "model_module_version": "2.0.0",
      "model_name": "FloatProgressModel",
      "state": {
       "layout": "IPY_MODEL_6a571c459aff4d9caf54d3626e5686e6",
       "max": 157,
       "style": "IPY_MODEL_368bcfe199514d0ab98dc58a7ae041af",
       "value": 157
      }
     },
     "b77cae32fc834da6aac8e6755d18d825": {
      "model_module": "@jupyter-widgets/base",
      "model_module_version": "2.0.0",
      "model_name": "LayoutModel",
      "state": {
       "display": "inline-flex",
       "flex_flow": "row wrap",
       "visibility": "hidden",
       "width": "100%"
      }
     },
     "b7a83a25c16e4b1a847f05a33931ce09": {
      "model_module": "@jupyter-widgets/controls",
      "model_module_version": "2.0.0",
      "model_name": "HTMLModel",
      "state": {
       "layout": "IPY_MODEL_383009b9b25b48968a901114b69499c7",
       "style": "IPY_MODEL_ea5822d9d94d4197b0b75ce63a92aa68",
       "value": " 157/157 [00:03&lt;00:00, 39.27it/s]"
      }
     },
     "b86f1bd90d6243c899399f0960abc29c": {
      "model_module": "@jupyter-widgets/base",
      "model_module_version": "2.0.0",
      "model_name": "LayoutModel",
      "state": {}
     },
     "b9cbc03713524dce8124fd0c8378a6d6": {
      "model_module": "@jupyter-widgets/controls",
      "model_module_version": "2.0.0",
      "model_name": "HTMLModel",
      "state": {
       "layout": "IPY_MODEL_5884516efb3a42f6962da8b453b28bca",
       "style": "IPY_MODEL_dbf887c894b1488cbc5cb8f6b8d59180",
       "value": "Validation DataLoader 0: 100%"
      }
     },
     "ba16fe047014480ebcb7cbf034504231": {
      "model_module": "@jupyter-widgets/controls",
      "model_module_version": "2.0.0",
      "model_name": "HTMLModel",
      "state": {
       "layout": "IPY_MODEL_4f7fe8e066534a80b7dc610daee1911d",
       "style": "IPY_MODEL_aabc05cfde7a4acf8f946f3f01d4a35a",
       "value": " 1407/1407 [01:00&lt;00:00, 23.24it/s, v_num=2]"
      }
     },
     "ba67348f1cc14a38873ae3766996dce5": {
      "model_module": "@jupyter-widgets/controls",
      "model_module_version": "2.0.0",
      "model_name": "ProgressStyleModel",
      "state": {
       "description_width": ""
      }
     },
     "baaaf095dc31463d949430fb0449d4bb": {
      "model_module": "@jupyter-widgets/controls",
      "model_module_version": "2.0.0",
      "model_name": "FloatProgressModel",
      "state": {
       "layout": "IPY_MODEL_0d4b1eabb33748579d4185441af4aeb8",
       "max": 157,
       "style": "IPY_MODEL_ba67348f1cc14a38873ae3766996dce5",
       "value": 157
      }
     },
     "bb7e028e6da54ae8bcbd799ce263046b": {
      "model_module": "@jupyter-widgets/controls",
      "model_module_version": "2.0.0",
      "model_name": "HTMLStyleModel",
      "state": {
       "description_width": "",
       "font_size": null,
       "text_color": null
      }
     },
     "bc01bb63c40a44bea4ebb7471c8fcdf4": {
      "model_module": "@jupyter-widgets/controls",
      "model_module_version": "2.0.0",
      "model_name": "HTMLStyleModel",
      "state": {
       "description_width": "",
       "font_size": null,
       "text_color": null
      }
     },
     "bc0e71e5571e4a969b3832f786795bb3": {
      "model_module": "@jupyter-widgets/base",
      "model_module_version": "2.0.0",
      "model_name": "LayoutModel",
      "state": {
       "display": "inline-flex",
       "flex_flow": "row wrap",
       "visibility": "hidden",
       "width": "100%"
      }
     },
     "bcaaa96253ac48a3998555d8d8e92a60": {
      "model_module": "@jupyter-widgets/controls",
      "model_module_version": "2.0.0",
      "model_name": "HTMLModel",
      "state": {
       "layout": "IPY_MODEL_19da5b2621844da0ad4d2dd1f8fd10e4",
       "style": "IPY_MODEL_ca7305aa53434e4e82fb6d77a4f4798a",
       "value": "Validation DataLoader 0: 100%"
      }
     },
     "bcf7b43ff2e243dba44db630bfef1f07": {
      "model_module": "@jupyter-widgets/controls",
      "model_module_version": "2.0.0",
      "model_name": "HTMLModel",
      "state": {
       "layout": "IPY_MODEL_424a17df393b421194ec9b90cfa2df50",
       "style": "IPY_MODEL_5113532f1d2945c3b3b011ae4d1f8b04",
       "value": " 157/157 [00:03&lt;00:00, 39.59it/s]"
      }
     },
     "bd5998dedc1044d8af69b0834a12c809": {
      "model_module": "@jupyter-widgets/controls",
      "model_module_version": "2.0.0",
      "model_name": "HTMLModel",
      "state": {
       "layout": "IPY_MODEL_30b3a8919a3b4da391b72615650ecd3e",
       "style": "IPY_MODEL_e91ab63b0de94852bf5e46c2b6498021",
       "value": "Sanity Checking DataLoader 0: 100%"
      }
     },
     "bd9f0f8437dd44f1adb25dde7f7555bd": {
      "model_module": "@jupyter-widgets/controls",
      "model_module_version": "2.0.0",
      "model_name": "HTMLModel",
      "state": {
       "layout": "IPY_MODEL_f655a126d7004a4cb97d0b5c6e83d8c9",
       "style": "IPY_MODEL_5ab915b7916c461bb84e6ce605e1a448",
       "value": " 157/157 [00:03&lt;00:00, 39.31it/s]"
      }
     },
     "be0229261fb847cca52a0357fa4657ce": {
      "model_module": "@jupyter-widgets/base",
      "model_module_version": "2.0.0",
      "model_name": "LayoutModel",
      "state": {}
     },
     "be1231b1f01b429ca125a07a106b3c4d": {
      "model_module": "@jupyter-widgets/base",
      "model_module_version": "2.0.0",
      "model_name": "LayoutModel",
      "state": {
       "flex": "2"
      }
     },
     "bf21d01e332e400996322b61a18103c5": {
      "model_module": "@jupyter-widgets/base",
      "model_module_version": "2.0.0",
      "model_name": "LayoutModel",
      "state": {}
     },
     "bf5e563c64724b70b11de89a29476bfd": {
      "model_module": "@jupyter-widgets/controls",
      "model_module_version": "2.0.0",
      "model_name": "HTMLModel",
      "state": {
       "layout": "IPY_MODEL_5bbc924907244cb7b52d75be858206a1",
       "style": "IPY_MODEL_20a82b6c76c04d4db179c37c43f54100",
       "value": "Epoch 14: 100%"
      }
     },
     "bf5f3ed06bf2482a827be5dd9246d83a": {
      "model_module": "@jupyter-widgets/base",
      "model_module_version": "2.0.0",
      "model_name": "LayoutModel",
      "state": {}
     },
     "bf92b83f1c5f43d784880ffcad89f73f": {
      "model_module": "@jupyter-widgets/base",
      "model_module_version": "2.0.0",
      "model_name": "LayoutModel",
      "state": {
       "display": "inline-flex",
       "flex_flow": "row wrap",
       "visibility": "hidden",
       "width": "100%"
      }
     },
     "bff6ac25599244fe9998722b7187dc29": {
      "model_module": "@jupyter-widgets/base",
      "model_module_version": "2.0.0",
      "model_name": "LayoutModel",
      "state": {}
     },
     "c0546f73e5e34392ae3c771cbdc75a37": {
      "model_module": "@jupyter-widgets/controls",
      "model_module_version": "2.0.0",
      "model_name": "ProgressStyleModel",
      "state": {
       "description_width": ""
      }
     },
     "c0739b2cd8554b0b910895eab3c1b1d5": {
      "model_module": "@jupyter-widgets/base",
      "model_module_version": "2.0.0",
      "model_name": "LayoutModel",
      "state": {
       "flex": "2"
      }
     },
     "c121313fe3b64bea949e36b414415ad9": {
      "model_module": "@jupyter-widgets/base",
      "model_module_version": "2.0.0",
      "model_name": "LayoutModel",
      "state": {}
     },
     "c14a3f8cda094d7a828ec78fa3888eaf": {
      "model_module": "@jupyter-widgets/controls",
      "model_module_version": "2.0.0",
      "model_name": "ProgressStyleModel",
      "state": {
       "description_width": ""
      }
     },
     "c188cc6c0f45491086c8583046004368": {
      "model_module": "@jupyter-widgets/base",
      "model_module_version": "2.0.0",
      "model_name": "LayoutModel",
      "state": {
       "display": "inline-flex",
       "flex_flow": "row wrap",
       "visibility": "hidden",
       "width": "100%"
      }
     },
     "c19b6c222fe7470fb36867cd3d2383b5": {
      "model_module": "@jupyter-widgets/base",
      "model_module_version": "2.0.0",
      "model_name": "LayoutModel",
      "state": {
       "flex": "2"
      }
     },
     "c20df77f75c147cfa10f74d6d578838f": {
      "model_module": "@jupyter-widgets/base",
      "model_module_version": "2.0.0",
      "model_name": "LayoutModel",
      "state": {
       "display": "inline-flex",
       "flex_flow": "row wrap",
       "visibility": "hidden",
       "width": "100%"
      }
     },
     "c2eca23570014211ae4fc683071fd349": {
      "model_module": "@jupyter-widgets/controls",
      "model_module_version": "2.0.0",
      "model_name": "HTMLStyleModel",
      "state": {
       "description_width": "",
       "font_size": null,
       "text_color": null
      }
     },
     "c36d6b43f19246d3913c17ddce3b6d41": {
      "model_module": "@jupyter-widgets/base",
      "model_module_version": "2.0.0",
      "model_name": "LayoutModel",
      "state": {}
     },
     "c3e563ef620d44e8828e686a0db877e2": {
      "model_module": "@jupyter-widgets/base",
      "model_module_version": "2.0.0",
      "model_name": "LayoutModel",
      "state": {}
     },
     "c4141c9c89214a6ab9e96e11dade1df7": {
      "model_module": "@jupyter-widgets/base",
      "model_module_version": "2.0.0",
      "model_name": "LayoutModel",
      "state": {
       "display": "inline-flex",
       "flex_flow": "row wrap",
       "visibility": "hidden",
       "width": "100%"
      }
     },
     "c4739ab3d85f4b72aa7fc752e3350316": {
      "model_module": "@jupyter-widgets/controls",
      "model_module_version": "2.0.0",
      "model_name": "HTMLStyleModel",
      "state": {
       "description_width": "",
       "font_size": null,
       "text_color": null
      }
     },
     "c47d7abf37954f7fa7157a5614d40467": {
      "model_module": "@jupyter-widgets/base",
      "model_module_version": "2.0.0",
      "model_name": "LayoutModel",
      "state": {
       "display": "inline-flex",
       "flex_flow": "row wrap",
       "visibility": "hidden",
       "width": "100%"
      }
     },
     "c48f275137f7463f8af84366b8c73c63": {
      "model_module": "@jupyter-widgets/controls",
      "model_module_version": "2.0.0",
      "model_name": "HTMLStyleModel",
      "state": {
       "description_width": "",
       "font_size": null,
       "text_color": null
      }
     },
     "c5db591551534292ba081dfa51f9a742": {
      "model_module": "@jupyter-widgets/controls",
      "model_module_version": "2.0.0",
      "model_name": "FloatProgressModel",
      "state": {
       "layout": "IPY_MODEL_6dcc499b159a449183e71c700e399f0b",
       "max": 157,
       "style": "IPY_MODEL_e47fe70f5eb5417eb49d0c707d1af55e",
       "value": 157
      }
     },
     "c5ebd2f6c70e47c5b5d808da36ef506a": {
      "model_module": "@jupyter-widgets/base",
      "model_module_version": "2.0.0",
      "model_name": "LayoutModel",
      "state": {}
     },
     "c721174f1b3544569ebc8370a40b3126": {
      "model_module": "@jupyter-widgets/base",
      "model_module_version": "2.0.0",
      "model_name": "LayoutModel",
      "state": {
       "display": "inline-flex",
       "flex_flow": "row wrap",
       "visibility": "hidden",
       "width": "100%"
      }
     },
     "c88551c92edf42f7b772254307ba45e7": {
      "model_module": "@jupyter-widgets/controls",
      "model_module_version": "2.0.0",
      "model_name": "HTMLStyleModel",
      "state": {
       "description_width": "",
       "font_size": null,
       "text_color": null
      }
     },
     "c8cc3cda31914fd0affb03c9c71aa137": {
      "model_module": "@jupyter-widgets/controls",
      "model_module_version": "2.0.0",
      "model_name": "HTMLStyleModel",
      "state": {
       "description_width": "",
       "font_size": null,
       "text_color": null
      }
     },
     "c987ede1a39e49678162c2e1e36dcd80": {
      "model_module": "@jupyter-widgets/base",
      "model_module_version": "2.0.0",
      "model_name": "LayoutModel",
      "state": {
       "display": "inline-flex",
       "flex_flow": "row wrap",
       "visibility": "hidden",
       "width": "100%"
      }
     },
     "c9b118d7fbf24ad8a01d49d336b95862": {
      "model_module": "@jupyter-widgets/controls",
      "model_module_version": "2.0.0",
      "model_name": "HTMLStyleModel",
      "state": {
       "description_width": "",
       "font_size": null,
       "text_color": null
      }
     },
     "c9b359b99a35427ca95026ec8b283b4d": {
      "model_module": "@jupyter-widgets/controls",
      "model_module_version": "2.0.0",
      "model_name": "HTMLModel",
      "state": {
       "layout": "IPY_MODEL_586c9b803d3d4707ba1c310f2a7a1b6d",
       "style": "IPY_MODEL_4545eca7dadd45b6a4a8e969c9d04be1",
       "value": "Validation DataLoader 0: 100%"
      }
     },
     "c9d7f20c7a4c4a3dab679319c5f19ff4": {
      "model_module": "@jupyter-widgets/base",
      "model_module_version": "2.0.0",
      "model_name": "LayoutModel",
      "state": {
       "display": "inline-flex",
       "flex_flow": "row wrap",
       "visibility": "hidden",
       "width": "100%"
      }
     },
     "c9f6533cda2e4148b55e8c70afaf1b99": {
      "model_module": "@jupyter-widgets/base",
      "model_module_version": "2.0.0",
      "model_name": "LayoutModel",
      "state": {
       "display": "inline-flex",
       "flex_flow": "row wrap",
       "visibility": "hidden",
       "width": "100%"
      }
     },
     "c9f81ec3f8bf495f937928b99607a30f": {
      "model_module": "@jupyter-widgets/base",
      "model_module_version": "2.0.0",
      "model_name": "LayoutModel",
      "state": {}
     },
     "ca018f2672894e7fbe0103cfe2a399aa": {
      "model_module": "@jupyter-widgets/base",
      "model_module_version": "2.0.0",
      "model_name": "LayoutModel",
      "state": {
       "display": "inline-flex",
       "flex_flow": "row wrap",
       "visibility": "hidden",
       "width": "100%"
      }
     },
     "ca3ec3f4042a4c569a5aab76ddb66c1b": {
      "model_module": "@jupyter-widgets/controls",
      "model_module_version": "2.0.0",
      "model_name": "HTMLModel",
      "state": {
       "layout": "IPY_MODEL_9de022360963410aac4e7933af5af57d",
       "style": "IPY_MODEL_ac95588adf524fab86c054378088ec2f",
       "value": "Validation DataLoader 0: 100%"
      }
     },
     "ca7305aa53434e4e82fb6d77a4f4798a": {
      "model_module": "@jupyter-widgets/controls",
      "model_module_version": "2.0.0",
      "model_name": "HTMLStyleModel",
      "state": {
       "description_width": "",
       "font_size": null,
       "text_color": null
      }
     },
     "cae21ead2b63419dbe243e6057cd9d83": {
      "model_module": "@jupyter-widgets/controls",
      "model_module_version": "2.0.0",
      "model_name": "FloatProgressModel",
      "state": {
       "layout": "IPY_MODEL_3f0d8b6235d54bdfafa3958d9742f3a4",
       "max": 2,
       "style": "IPY_MODEL_5f1ec59c2a9b4d79bd19af9dc1e6160e",
       "value": 2
      }
     },
     "cc55f5ebd3b9489981da91122fbaff29": {
      "model_module": "@jupyter-widgets/controls",
      "model_module_version": "2.0.0",
      "model_name": "FloatProgressModel",
      "state": {
       "bar_style": "success",
       "layout": "IPY_MODEL_e0c26a9763f547fdb7e1ef977939a2be",
       "max": 1407,
       "style": "IPY_MODEL_c14a3f8cda094d7a828ec78fa3888eaf",
       "value": 1407
      }
     },
     "cc5f6d776ee14f71918701c0276292d3": {
      "model_module": "@jupyter-widgets/controls",
      "model_module_version": "2.0.0",
      "model_name": "HTMLStyleModel",
      "state": {
       "description_width": "",
       "font_size": null,
       "text_color": null
      }
     },
     "cce330fc53184a87a5bcba8cd47ad83f": {
      "model_module": "@jupyter-widgets/controls",
      "model_module_version": "2.0.0",
      "model_name": "HTMLModel",
      "state": {
       "layout": "IPY_MODEL_26a0244938e44c048679d5d5c2c5887d",
       "style": "IPY_MODEL_b480bc0784484171bc7f0e41adb390b1",
       "value": " 157/157 [00:03&lt;00:00, 44.48it/s]"
      }
     },
     "cd412747a874435dbe72a0e9da305527": {
      "model_module": "@jupyter-widgets/base",
      "model_module_version": "2.0.0",
      "model_name": "LayoutModel",
      "state": {}
     },
     "cd54967b349c42ea91fff84736de4257": {
      "model_module": "@jupyter-widgets/base",
      "model_module_version": "2.0.0",
      "model_name": "LayoutModel",
      "state": {}
     },
     "cd6e7b8f23cd4624882a41fd3d7be6ed": {
      "model_module": "@jupyter-widgets/base",
      "model_module_version": "2.0.0",
      "model_name": "LayoutModel",
      "state": {
       "display": "inline-flex",
       "flex_flow": "row wrap",
       "visibility": "hidden",
       "width": "100%"
      }
     },
     "cdf16195a74642cdb0bd0f23d763e61e": {
      "model_module": "@jupyter-widgets/base",
      "model_module_version": "2.0.0",
      "model_name": "LayoutModel",
      "state": {
       "flex": "2"
      }
     },
     "ce4b23019a0e48549233000a2573c5ec": {
      "model_module": "@jupyter-widgets/controls",
      "model_module_version": "2.0.0",
      "model_name": "HTMLStyleModel",
      "state": {
       "description_width": "",
       "font_size": null,
       "text_color": null
      }
     },
     "cec23ac0e2834128a7a9d0e9fd8f9fe2": {
      "model_module": "@jupyter-widgets/controls",
      "model_module_version": "2.0.0",
      "model_name": "ProgressStyleModel",
      "state": {
       "description_width": ""
      }
     },
     "cef30513f3134d52bc0e374718be4dd5": {
      "model_module": "@jupyter-widgets/controls",
      "model_module_version": "2.0.0",
      "model_name": "HTMLModel",
      "state": {
       "layout": "IPY_MODEL_00c56878b7df40c29f6066f3e9176ad4",
       "style": "IPY_MODEL_d0879fc00dd341ab84c2743ab9eedbcf",
       "value": "Validation DataLoader 0: 100%"
      }
     },
     "cf0ab37f4cc9460d9937e687bca5b223": {
      "model_module": "@jupyter-widgets/base",
      "model_module_version": "2.0.0",
      "model_name": "LayoutModel",
      "state": {
       "flex": "2"
      }
     },
     "cf1baece56fc4fb1b679a7c3b46533de": {
      "model_module": "@jupyter-widgets/controls",
      "model_module_version": "2.0.0",
      "model_name": "ProgressStyleModel",
      "state": {
       "description_width": ""
      }
     },
     "d0033e5756f946a5bfaff70e22d476b4": {
      "model_module": "@jupyter-widgets/controls",
      "model_module_version": "2.0.0",
      "model_name": "HTMLStyleModel",
      "state": {
       "description_width": "",
       "font_size": null,
       "text_color": null
      }
     },
     "d0879fc00dd341ab84c2743ab9eedbcf": {
      "model_module": "@jupyter-widgets/controls",
      "model_module_version": "2.0.0",
      "model_name": "HTMLStyleModel",
      "state": {
       "description_width": "",
       "font_size": null,
       "text_color": null
      }
     },
     "d11c2378df6e473bb12910f0ece88406": {
      "model_module": "@jupyter-widgets/controls",
      "model_module_version": "2.0.0",
      "model_name": "HTMLStyleModel",
      "state": {
       "description_width": "",
       "font_size": null,
       "text_color": null
      }
     },
     "d1e94395b8c9420cbe99e46e644a1136": {
      "model_module": "@jupyter-widgets/controls",
      "model_module_version": "2.0.0",
      "model_name": "HTMLModel",
      "state": {
       "layout": "IPY_MODEL_0fd96806add14424b3fd5b6e8fb88cc4",
       "style": "IPY_MODEL_852fc58f8bfa4785a50f7fd3b07a331e",
       "value": "Validation DataLoader 0: 100%"
      }
     },
     "d1ec472ea9474bc18d2efbf177c52d98": {
      "model_module": "@jupyter-widgets/controls",
      "model_module_version": "2.0.0",
      "model_name": "FloatProgressModel",
      "state": {
       "layout": "IPY_MODEL_2175f2daa928437e8223d841d215dab3",
       "max": 157,
       "style": "IPY_MODEL_2804ad7704a04d38abff7dc2db8533ca",
       "value": 157
      }
     },
     "d25f46738815498d97305199080d12b7": {
      "model_module": "@jupyter-widgets/controls",
      "model_module_version": "2.0.0",
      "model_name": "ProgressStyleModel",
      "state": {
       "description_width": ""
      }
     },
     "d2aa87d409cc4b5fb400d3e79dabd313": {
      "model_module": "@jupyter-widgets/controls",
      "model_module_version": "2.0.0",
      "model_name": "HTMLModel",
      "state": {
       "layout": "IPY_MODEL_db568d5d0f754e3684c01792a7ca3f78",
       "style": "IPY_MODEL_a51f0260b82843dfb5345c03b714a5dd",
       "value": "Validation DataLoader 0: 100%"
      }
     },
     "d4555cdebbb040958dc03de0ec671168": {
      "model_module": "@jupyter-widgets/controls",
      "model_module_version": "2.0.0",
      "model_name": "ProgressStyleModel",
      "state": {
       "description_width": ""
      }
     },
     "d4a971fbefb247c5beecb1807d5ef97b": {
      "model_module": "@jupyter-widgets/controls",
      "model_module_version": "2.0.0",
      "model_name": "ProgressStyleModel",
      "state": {
       "description_width": ""
      }
     },
     "d5c91e35b61f49949d6ad2a6ce079bc4": {
      "model_module": "@jupyter-widgets/base",
      "model_module_version": "2.0.0",
      "model_name": "LayoutModel",
      "state": {
       "flex": "2"
      }
     },
     "d68a9f0d7e5b487ca58ffead37ddf8e6": {
      "model_module": "@jupyter-widgets/base",
      "model_module_version": "2.0.0",
      "model_name": "LayoutModel",
      "state": {
       "display": "inline-flex",
       "flex_flow": "row wrap",
       "visibility": "hidden",
       "width": "100%"
      }
     },
     "d6f2029d18d34e2cb284fa1d57c02f4d": {
      "model_module": "@jupyter-widgets/base",
      "model_module_version": "2.0.0",
      "model_name": "LayoutModel",
      "state": {}
     },
     "d738da4022b14988b49c00015a5644cb": {
      "model_module": "@jupyter-widgets/base",
      "model_module_version": "2.0.0",
      "model_name": "LayoutModel",
      "state": {}
     },
     "d7dfe7b52ffc49de8c9ec5c8d77100e2": {
      "model_module": "@jupyter-widgets/controls",
      "model_module_version": "2.0.0",
      "model_name": "ProgressStyleModel",
      "state": {
       "description_width": ""
      }
     },
     "d83c20ba67584bea990f0252caaed527": {
      "model_module": "@jupyter-widgets/controls",
      "model_module_version": "2.0.0",
      "model_name": "FloatProgressModel",
      "state": {
       "layout": "IPY_MODEL_e3ee17190e724e9cbce8c9e4bab6acab",
       "max": 157,
       "style": "IPY_MODEL_4d5d0ce623c946f8a5087c0d3931d492",
       "value": 157
      }
     },
     "d9cbc7e6d9e047f1b0e3ffac2b2ce2e8": {
      "model_module": "@jupyter-widgets/controls",
      "model_module_version": "2.0.0",
      "model_name": "HTMLStyleModel",
      "state": {
       "description_width": "",
       "font_size": null,
       "text_color": null
      }
     },
     "da38ff54580446afa64bbe8c35c49003": {
      "model_module": "@jupyter-widgets/base",
      "model_module_version": "2.0.0",
      "model_name": "LayoutModel",
      "state": {
       "display": "inline-flex",
       "flex_flow": "row wrap",
       "visibility": "hidden",
       "width": "100%"
      }
     },
     "da3f534f29d34ffc9bb4fc8affea64f3": {
      "model_module": "@jupyter-widgets/controls",
      "model_module_version": "2.0.0",
      "model_name": "HBoxModel",
      "state": {
       "children": [
        "IPY_MODEL_1ade8b724aef4877844cddaac8f96b21",
        "IPY_MODEL_584bb04f57c54e5783c27eb7314314e9",
        "IPY_MODEL_0b97bef3f4ab41b6b625e0aefadb2f06"
       ],
       "layout": "IPY_MODEL_f710cbcb8339432db24a20277c9ffa44"
      }
     },
     "db05a75e7c184cfcaf3e6ac4aea31860": {
      "model_module": "@jupyter-widgets/base",
      "model_module_version": "2.0.0",
      "model_name": "LayoutModel",
      "state": {
       "display": "inline-flex",
       "flex_flow": "row wrap",
       "visibility": "hidden",
       "width": "100%"
      }
     },
     "db568d5d0f754e3684c01792a7ca3f78": {
      "model_module": "@jupyter-widgets/base",
      "model_module_version": "2.0.0",
      "model_name": "LayoutModel",
      "state": {}
     },
     "db93094a0ae74e9d92ab69aefa012662": {
      "model_module": "@jupyter-widgets/controls",
      "model_module_version": "2.0.0",
      "model_name": "HTMLModel",
      "state": {
       "layout": "IPY_MODEL_ee2bc00c4f02450e8903f4f297ccd60b",
       "style": "IPY_MODEL_8e7a9c34f2534e2798c223f2849ad447",
       "value": " 157/157 [00:03&lt;00:00, 51.18it/s]"
      }
     },
     "dba3bbd649454915ad4aaa3189b4e90c": {
      "model_module": "@jupyter-widgets/controls",
      "model_module_version": "2.0.0",
      "model_name": "HTMLModel",
      "state": {
       "layout": "IPY_MODEL_6c3f6bbf99bb482f99be6e016843a3d0",
       "style": "IPY_MODEL_b132aa1d284e43cb9226e267428bf06f",
       "value": "Validation DataLoader 0: 100%"
      }
     },
     "dbd1b2d95b52431797bdc9a1a383fca5": {
      "model_module": "@jupyter-widgets/controls",
      "model_module_version": "2.0.0",
      "model_name": "ProgressStyleModel",
      "state": {
       "description_width": ""
      }
     },
     "dbf887c894b1488cbc5cb8f6b8d59180": {
      "model_module": "@jupyter-widgets/controls",
      "model_module_version": "2.0.0",
      "model_name": "HTMLStyleModel",
      "state": {
       "description_width": "",
       "font_size": null,
       "text_color": null
      }
     },
     "dc0c69f5986c4e1db8d186de6c2804db": {
      "model_module": "@jupyter-widgets/controls",
      "model_module_version": "2.0.0",
      "model_name": "HTMLStyleModel",
      "state": {
       "description_width": "",
       "font_size": null,
       "text_color": null
      }
     },
     "dc364da5da76444da11dc775e14664cd": {
      "model_module": "@jupyter-widgets/controls",
      "model_module_version": "2.0.0",
      "model_name": "HTMLModel",
      "state": {
       "layout": "IPY_MODEL_fbe4476f7d4d4950a31f248d53227645",
       "style": "IPY_MODEL_2576d186b85d4929b68edf26b0a48ba1",
       "value": "Validation DataLoader 0: 100%"
      }
     },
     "dc6c48656eda486abdd4eabe6e7213ae": {
      "model_module": "@jupyter-widgets/base",
      "model_module_version": "2.0.0",
      "model_name": "LayoutModel",
      "state": {
       "display": "inline-flex",
       "flex_flow": "row wrap",
       "visibility": "hidden",
       "width": "100%"
      }
     },
     "dc831a471705440594ab8185c61d95e9": {
      "model_module": "@jupyter-widgets/controls",
      "model_module_version": "2.0.0",
      "model_name": "HTMLModel",
      "state": {
       "layout": "IPY_MODEL_b10cb71708da4c65ad332607fb137c81",
       "style": "IPY_MODEL_0a767170f3364fdc8cb3ef1d8008e3d4",
       "value": " 157/157 [00:03&lt;00:00, 40.25it/s]"
      }
     },
     "df057870f49a4d5babcb702297a70cb1": {
      "model_module": "@jupyter-widgets/controls",
      "model_module_version": "2.0.0",
      "model_name": "ProgressStyleModel",
      "state": {
       "description_width": ""
      }
     },
     "df0e832e931e4e9483b1efe05aa11f19": {
      "model_module": "@jupyter-widgets/base",
      "model_module_version": "2.0.0",
      "model_name": "LayoutModel",
      "state": {}
     },
     "df7da4cd1a5f4ce197a3955c2eb30f91": {
      "model_module": "@jupyter-widgets/controls",
      "model_module_version": "2.0.0",
      "model_name": "ProgressStyleModel",
      "state": {
       "description_width": ""
      }
     },
     "e0c26a9763f547fdb7e1ef977939a2be": {
      "model_module": "@jupyter-widgets/base",
      "model_module_version": "2.0.0",
      "model_name": "LayoutModel",
      "state": {
       "flex": "2"
      }
     },
     "e0cb732143b04b30a5830a021363f6e7": {
      "model_module": "@jupyter-widgets/controls",
      "model_module_version": "2.0.0",
      "model_name": "HTMLModel",
      "state": {
       "layout": "IPY_MODEL_d6f2029d18d34e2cb284fa1d57c02f4d",
       "style": "IPY_MODEL_5041c7003e58449fbbf50f34d4187393",
       "value": "Validation DataLoader 0: 100%"
      }
     },
     "e0da50cd282e43c2a24cef14e41ad0ee": {
      "model_module": "@jupyter-widgets/controls",
      "model_module_version": "2.0.0",
      "model_name": "HTMLStyleModel",
      "state": {
       "description_width": "",
       "font_size": null,
       "text_color": null
      }
     },
     "e13324d4775e4b608c9cdce11c56652b": {
      "model_module": "@jupyter-widgets/base",
      "model_module_version": "2.0.0",
      "model_name": "LayoutModel",
      "state": {}
     },
     "e284fcbdf6474187b62bb8f82d4e6fe9": {
      "model_module": "@jupyter-widgets/base",
      "model_module_version": "2.0.0",
      "model_name": "LayoutModel",
      "state": {}
     },
     "e3c3df8344c44f2882d27492d8a3e19b": {
      "model_module": "@jupyter-widgets/controls",
      "model_module_version": "2.0.0",
      "model_name": "ProgressStyleModel",
      "state": {
       "description_width": ""
      }
     },
     "e3ee17190e724e9cbce8c9e4bab6acab": {
      "model_module": "@jupyter-widgets/base",
      "model_module_version": "2.0.0",
      "model_name": "LayoutModel",
      "state": {
       "flex": "2"
      }
     },
     "e4171a3693aa4a63bc85fcc2af3eedf2": {
      "model_module": "@jupyter-widgets/controls",
      "model_module_version": "2.0.0",
      "model_name": "HTMLModel",
      "state": {
       "layout": "IPY_MODEL_83b282829ec24bcc9d351bd0e1333fea",
       "style": "IPY_MODEL_1c2b36f5d60547508c6af4c4b6862454",
       "value": "Validation DataLoader 0: 100%"
      }
     },
     "e47fe70f5eb5417eb49d0c707d1af55e": {
      "model_module": "@jupyter-widgets/controls",
      "model_module_version": "2.0.0",
      "model_name": "ProgressStyleModel",
      "state": {
       "description_width": ""
      }
     },
     "e4ab5e4ede0e4968b99c3aa862cd9e55": {
      "model_module": "@jupyter-widgets/base",
      "model_module_version": "2.0.0",
      "model_name": "LayoutModel",
      "state": {}
     },
     "e4e53b4b8748495696502b5bcfe94512": {
      "model_module": "@jupyter-widgets/controls",
      "model_module_version": "2.0.0",
      "model_name": "FloatProgressModel",
      "state": {
       "layout": "IPY_MODEL_c0739b2cd8554b0b910895eab3c1b1d5",
       "max": 157,
       "style": "IPY_MODEL_cf1baece56fc4fb1b679a7c3b46533de",
       "value": 157
      }
     },
     "e5e724a233c64c5984e9c5f8cc8937ae": {
      "model_module": "@jupyter-widgets/base",
      "model_module_version": "2.0.0",
      "model_name": "LayoutModel",
      "state": {
       "display": "inline-flex",
       "flex_flow": "row wrap",
       "visibility": "hidden",
       "width": "100%"
      }
     },
     "e6378b5193174d4da5d0588176ebc525": {
      "model_module": "@jupyter-widgets/controls",
      "model_module_version": "2.0.0",
      "model_name": "FloatProgressModel",
      "state": {
       "layout": "IPY_MODEL_647f8dcd9c46482688998bbafc0957d2",
       "max": 157,
       "style": "IPY_MODEL_376cfe2d50c54ac8a1bc794496e7d12e",
       "value": 157
      }
     },
     "e7512641b9f24a31856d94bba66fb3e6": {
      "model_module": "@jupyter-widgets/controls",
      "model_module_version": "2.0.0",
      "model_name": "HTMLModel",
      "state": {
       "layout": "IPY_MODEL_22292b20142e4d849c2ef552940b43fd",
       "style": "IPY_MODEL_ec63e7f62daa45a1a4ebd8c69268aa4a",
       "value": " 157/157 [00:03&lt;00:00, 49.55it/s]"
      }
     },
     "e7bd3eb925ac494b8f8922cd2f7a63a8": {
      "model_module": "@jupyter-widgets/controls",
      "model_module_version": "2.0.0",
      "model_name": "HTMLModel",
      "state": {
       "layout": "IPY_MODEL_f6e82a524fe14da6a77ba9c12d46133c",
       "style": "IPY_MODEL_4b0fe828cac14be7a05d084a81e4e991",
       "value": "Validation DataLoader 0: 100%"
      }
     },
     "e8315d7a5c834a349537d5d1ca0a1a98": {
      "model_module": "@jupyter-widgets/controls",
      "model_module_version": "2.0.0",
      "model_name": "HTMLModel",
      "state": {
       "layout": "IPY_MODEL_cd54967b349c42ea91fff84736de4257",
       "style": "IPY_MODEL_7d796a26838347c284775d21dd08710e",
       "value": "Validation DataLoader 0: 100%"
      }
     },
     "e871c79222a3498a85f64733f62c6877": {
      "model_module": "@jupyter-widgets/controls",
      "model_module_version": "2.0.0",
      "model_name": "HTMLStyleModel",
      "state": {
       "description_width": "",
       "font_size": null,
       "text_color": null
      }
     },
     "e8e4d20f9b39478c8eb8e9041de9cc86": {
      "model_module": "@jupyter-widgets/controls",
      "model_module_version": "2.0.0",
      "model_name": "HTMLModel",
      "state": {
       "layout": "IPY_MODEL_6d76c080e5324e2493299e244fe4ab09",
       "style": "IPY_MODEL_0eb11c5d7ae44a919040db6bf526e545",
       "value": "Validation DataLoader 0: 100%"
      }
     },
     "e91ab63b0de94852bf5e46c2b6498021": {
      "model_module": "@jupyter-widgets/controls",
      "model_module_version": "2.0.0",
      "model_name": "HTMLStyleModel",
      "state": {
       "description_width": "",
       "font_size": null,
       "text_color": null
      }
     },
     "e983796a69a243649ddb52334af1d89c": {
      "model_module": "@jupyter-widgets/controls",
      "model_module_version": "2.0.0",
      "model_name": "ProgressStyleModel",
      "state": {
       "description_width": ""
      }
     },
     "ea42c1f9acd04a299b1ad0a3fe2563d1": {
      "model_module": "@jupyter-widgets/controls",
      "model_module_version": "2.0.0",
      "model_name": "FloatProgressModel",
      "state": {
       "layout": "IPY_MODEL_4bcaacbffa104dd29d9dd0037497455d",
       "max": 157,
       "style": "IPY_MODEL_cec23ac0e2834128a7a9d0e9fd8f9fe2",
       "value": 157
      }
     },
     "ea5822d9d94d4197b0b75ce63a92aa68": {
      "model_module": "@jupyter-widgets/controls",
      "model_module_version": "2.0.0",
      "model_name": "HTMLStyleModel",
      "state": {
       "description_width": "",
       "font_size": null,
       "text_color": null
      }
     },
     "eb0640bbff8d4e4c96640aec4affdfeb": {
      "model_module": "@jupyter-widgets/controls",
      "model_module_version": "2.0.0",
      "model_name": "HTMLModel",
      "state": {
       "layout": "IPY_MODEL_cd412747a874435dbe72a0e9da305527",
       "style": "IPY_MODEL_b4f034a3d01d4be5990941b35a6edeb0",
       "value": " 157/157 [00:03&lt;00:00, 49.91it/s]"
      }
     },
     "eb159318978340b6b6f634df66a8b624": {
      "model_module": "@jupyter-widgets/controls",
      "model_module_version": "2.0.0",
      "model_name": "HTMLModel",
      "state": {
       "layout": "IPY_MODEL_df0e832e931e4e9483b1efe05aa11f19",
       "style": "IPY_MODEL_1a74fd62eef1442d96a296f40fd22004",
       "value": " 157/157 [00:03&lt;00:00, 48.97it/s]"
      }
     },
     "eb84d2a265c449588806e4f689722038": {
      "model_module": "@jupyter-widgets/controls",
      "model_module_version": "2.0.0",
      "model_name": "HTMLModel",
      "state": {
       "layout": "IPY_MODEL_bf21d01e332e400996322b61a18103c5",
       "style": "IPY_MODEL_383ae7fb4b424a13afce964e6ad9c524",
       "value": "Validation DataLoader 0: 100%"
      }
     },
     "ec05aa8e9aed46ae8215c81d470ab85e": {
      "model_module": "@jupyter-widgets/base",
      "model_module_version": "2.0.0",
      "model_name": "LayoutModel",
      "state": {
       "flex": "2"
      }
     },
     "ec63e7f62daa45a1a4ebd8c69268aa4a": {
      "model_module": "@jupyter-widgets/controls",
      "model_module_version": "2.0.0",
      "model_name": "HTMLStyleModel",
      "state": {
       "description_width": "",
       "font_size": null,
       "text_color": null
      }
     },
     "ecae214df1e94ad0ba551b7c453d712f": {
      "model_module": "@jupyter-widgets/controls",
      "model_module_version": "2.0.0",
      "model_name": "FloatProgressModel",
      "state": {
       "layout": "IPY_MODEL_49a891d9e7b94ce78539b30c3e5b9358",
       "max": 157,
       "style": "IPY_MODEL_e3c3df8344c44f2882d27492d8a3e19b",
       "value": 157
      }
     },
     "ed4aa4d193ab49e4bb499b0550ac4892": {
      "model_module": "@jupyter-widgets/base",
      "model_module_version": "2.0.0",
      "model_name": "LayoutModel",
      "state": {}
     },
     "eda29e6a2a324a67bb75410b9fc86084": {
      "model_module": "@jupyter-widgets/controls",
      "model_module_version": "2.0.0",
      "model_name": "FloatProgressModel",
      "state": {
       "layout": "IPY_MODEL_0a6bdb6749bb4f9e8724fdb122a55435",
       "max": 157,
       "style": "IPY_MODEL_045c939ad69348f09c56add45c0fa7a5",
       "value": 157
      }
     },
     "ee09da9ac1cd4b028be07037790b4dd6": {
      "model_module": "@jupyter-widgets/base",
      "model_module_version": "2.0.0",
      "model_name": "LayoutModel",
      "state": {
       "display": "inline-flex",
       "flex_flow": "row wrap",
       "visibility": "hidden",
       "width": "100%"
      }
     },
     "ee26f7c1066f4429a0c924e4547be473": {
      "model_module": "@jupyter-widgets/controls",
      "model_module_version": "2.0.0",
      "model_name": "HTMLModel",
      "state": {
       "layout": "IPY_MODEL_68dce05352644c20abfe2c6285204555",
       "style": "IPY_MODEL_882fcb319ea24b848394cb995a58cba5",
       "value": "Validation DataLoader 0: 100%"
      }
     },
     "ee2bc00c4f02450e8903f4f297ccd60b": {
      "model_module": "@jupyter-widgets/base",
      "model_module_version": "2.0.0",
      "model_name": "LayoutModel",
      "state": {}
     },
     "ee9d9cf08e494cf1ad28cf8e421c9d14": {
      "model_module": "@jupyter-widgets/controls",
      "model_module_version": "2.0.0",
      "model_name": "HTMLModel",
      "state": {
       "layout": "IPY_MODEL_2ef227834cd84f35be06c77e18bd8a58",
       "style": "IPY_MODEL_1b9e0fe0f42c40a68297c007d5a7e350",
       "value": " 157/157 [00:03&lt;00:00, 42.37it/s]"
      }
     },
     "ef706ccdf931432e8b15da22e09fd56e": {
      "model_module": "@jupyter-widgets/controls",
      "model_module_version": "2.0.0",
      "model_name": "HTMLStyleModel",
      "state": {
       "description_width": "",
       "font_size": null,
       "text_color": null
      }
     },
     "ef8a238a180c4131801039edeeac630e": {
      "model_module": "@jupyter-widgets/base",
      "model_module_version": "2.0.0",
      "model_name": "LayoutModel",
      "state": {}
     },
     "ef9a57ce03c04f308772bf34e2317ef7": {
      "model_module": "@jupyter-widgets/controls",
      "model_module_version": "2.0.0",
      "model_name": "HTMLStyleModel",
      "state": {
       "description_width": "",
       "font_size": null,
       "text_color": null
      }
     },
     "f0302fbe0db24d02841c7fec01182049": {
      "model_module": "@jupyter-widgets/controls",
      "model_module_version": "2.0.0",
      "model_name": "FloatProgressModel",
      "state": {
       "layout": "IPY_MODEL_50c859f2432e45b8be01407952763725",
       "max": 157,
       "style": "IPY_MODEL_44d8bddec6264de4a00600e0a8e0cdd1",
       "value": 157
      }
     },
     "f08e103d342d475fb271a44ec670ad48": {
      "model_module": "@jupyter-widgets/base",
      "model_module_version": "2.0.0",
      "model_name": "LayoutModel",
      "state": {}
     },
     "f0f64676e9d6497aba9a8b8a8fd4c4ef": {
      "model_module": "@jupyter-widgets/base",
      "model_module_version": "2.0.0",
      "model_name": "LayoutModel",
      "state": {
       "display": "inline-flex",
       "flex_flow": "row wrap",
       "visibility": "hidden",
       "width": "100%"
      }
     },
     "f12031763dc3492c92fea7d7c85a670a": {
      "model_module": "@jupyter-widgets/base",
      "model_module_version": "2.0.0",
      "model_name": "LayoutModel",
      "state": {
       "display": "inline-flex",
       "flex_flow": "row wrap",
       "visibility": "hidden",
       "width": "100%"
      }
     },
     "f177a184b2834ff5a729bfe6956dcd63": {
      "model_module": "@jupyter-widgets/base",
      "model_module_version": "2.0.0",
      "model_name": "LayoutModel",
      "state": {
       "flex": "2"
      }
     },
     "f18202f0f15740f4819c1d1f4f0a4e3f": {
      "model_module": "@jupyter-widgets/controls",
      "model_module_version": "2.0.0",
      "model_name": "HTMLStyleModel",
      "state": {
       "description_width": "",
       "font_size": null,
       "text_color": null
      }
     },
     "f301ea115a984e4a9c48f9054d4107c5": {
      "model_module": "@jupyter-widgets/controls",
      "model_module_version": "2.0.0",
      "model_name": "HTMLModel",
      "state": {
       "layout": "IPY_MODEL_776cfd6678e24a2bb1034a02a91a8651",
       "style": "IPY_MODEL_3447eb92ab8844cfab00424b199806c0",
       "value": " 157/157 [00:03&lt;00:00, 44.33it/s]"
      }
     },
     "f3251eb15c3d40a7a879df5c55cbd747": {
      "model_module": "@jupyter-widgets/base",
      "model_module_version": "2.0.0",
      "model_name": "LayoutModel",
      "state": {
       "display": "inline-flex",
       "flex_flow": "row wrap",
       "visibility": "hidden",
       "width": "100%"
      }
     },
     "f3ca978010fa4dea81ce1b099ef111cd": {
      "model_module": "@jupyter-widgets/base",
      "model_module_version": "2.0.0",
      "model_name": "LayoutModel",
      "state": {}
     },
     "f3f663bc078a44989e5aed759f510ac1": {
      "model_module": "@jupyter-widgets/controls",
      "model_module_version": "2.0.0",
      "model_name": "HTMLModel",
      "state": {
       "layout": "IPY_MODEL_3996ae7d4fb648e6a00b8fbf14d719a4",
       "style": "IPY_MODEL_aa863eef08cd4fefb02a409d66880250",
       "value": "Validation DataLoader 0: 100%"
      }
     },
     "f42491a4f2ea4cc4a8ca6aec4ccb8189": {
      "model_module": "@jupyter-widgets/controls",
      "model_module_version": "2.0.0",
      "model_name": "HTMLModel",
      "state": {
       "layout": "IPY_MODEL_a019b0d1b47d4ebea78f598a143a02ce",
       "style": "IPY_MODEL_04f33333830c4bc6bbaa5da38a1edd67",
       "value": " 157/157 [00:03&lt;00:00, 49.23it/s]"
      }
     },
     "f4aa82327bdc4e53aba88601374cc49b": {
      "model_module": "@jupyter-widgets/controls",
      "model_module_version": "2.0.0",
      "model_name": "ProgressStyleModel",
      "state": {
       "description_width": ""
      }
     },
     "f57b8d5b315047ef98a6a1631ec51857": {
      "model_module": "@jupyter-widgets/controls",
      "model_module_version": "2.0.0",
      "model_name": "HTMLModel",
      "state": {
       "layout": "IPY_MODEL_4282f9212b2c4f2b9b8d7c32b24abd04",
       "style": "IPY_MODEL_9384a3be2f70491186aa2c16757ab2cb",
       "value": "Validation DataLoader 0: 100%"
      }
     },
     "f655a126d7004a4cb97d0b5c6e83d8c9": {
      "model_module": "@jupyter-widgets/base",
      "model_module_version": "2.0.0",
      "model_name": "LayoutModel",
      "state": {}
     },
     "f69f633ef6864526bb1b26ebe4c0897f": {
      "model_module": "@jupyter-widgets/base",
      "model_module_version": "2.0.0",
      "model_name": "LayoutModel",
      "state": {}
     },
     "f6e82a524fe14da6a77ba9c12d46133c": {
      "model_module": "@jupyter-widgets/base",
      "model_module_version": "2.0.0",
      "model_name": "LayoutModel",
      "state": {}
     },
     "f710cbcb8339432db24a20277c9ffa44": {
      "model_module": "@jupyter-widgets/base",
      "model_module_version": "2.0.0",
      "model_name": "LayoutModel",
      "state": {
       "display": "inline-flex",
       "flex_flow": "row wrap",
       "width": "100%"
      }
     },
     "f720423f9947410dbaf62d1ac60792e3": {
      "model_module": "@jupyter-widgets/base",
      "model_module_version": "2.0.0",
      "model_name": "LayoutModel",
      "state": {
       "flex": "2"
      }
     },
     "f793ba447ccb4c689cd30e250cbd79ee": {
      "model_module": "@jupyter-widgets/controls",
      "model_module_version": "2.0.0",
      "model_name": "HTMLStyleModel",
      "state": {
       "description_width": "",
       "font_size": null,
       "text_color": null
      }
     },
     "f900fe26bf9e47efbf0ee11dd8af9662": {
      "model_module": "@jupyter-widgets/controls",
      "model_module_version": "2.0.0",
      "model_name": "HTMLModel",
      "state": {
       "layout": "IPY_MODEL_7b6ce2ef5e3f44f9978c7d16a391fd34",
       "style": "IPY_MODEL_29ee6c36304d4b4580e19bd5e7125c19",
       "value": " 2/2 [00:00&lt;00:00, 48.18it/s]"
      }
     },
     "fa05177c9be9429eae5c028b9df61a2b": {
      "model_module": "@jupyter-widgets/base",
      "model_module_version": "2.0.0",
      "model_name": "LayoutModel",
      "state": {
       "flex": "2"
      }
     },
     "fbe4476f7d4d4950a31f248d53227645": {
      "model_module": "@jupyter-widgets/base",
      "model_module_version": "2.0.0",
      "model_name": "LayoutModel",
      "state": {}
     },
     "fc0eba2311b5474295631ef4b768fc16": {
      "model_module": "@jupyter-widgets/base",
      "model_module_version": "2.0.0",
      "model_name": "LayoutModel",
      "state": {
       "flex": "2"
      }
     },
     "fc36ef3be1804c8eb704228c5987682c": {
      "model_module": "@jupyter-widgets/controls",
      "model_module_version": "2.0.0",
      "model_name": "ProgressStyleModel",
      "state": {
       "description_width": ""
      }
     },
     "fc808f94834c46d280090f3a37cb9193": {
      "model_module": "@jupyter-widgets/controls",
      "model_module_version": "2.0.0",
      "model_name": "HTMLStyleModel",
      "state": {
       "description_width": "",
       "font_size": null,
       "text_color": null
      }
     },
     "fd188513ab084623a9e186210faf183e": {
      "model_module": "@jupyter-widgets/controls",
      "model_module_version": "2.0.0",
      "model_name": "FloatProgressModel",
      "state": {
       "layout": "IPY_MODEL_aaa69cd9d77547d09923195b76e0e75b",
       "max": 157,
       "style": "IPY_MODEL_31a904f9a65c4f94af676acbc7f974cd",
       "value": 157
      }
     },
     "fe38771510b346b492ff12641a2b177e": {
      "model_module": "@jupyter-widgets/controls",
      "model_module_version": "2.0.0",
      "model_name": "ProgressStyleModel",
      "state": {
       "description_width": ""
      }
     },
     "ff1a2f6d104e469f9122144d4b83cafd": {
      "model_module": "@jupyter-widgets/controls",
      "model_module_version": "2.0.0",
      "model_name": "HTMLStyleModel",
      "state": {
       "description_width": "",
       "font_size": null,
       "text_color": null
      }
     }
    },
    "version_major": 2,
    "version_minor": 0
   }
  }
 },
 "nbformat": 4,
 "nbformat_minor": 5
}
